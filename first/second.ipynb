{
 "cells": [
  {
   "cell_type": "code",
   "execution_count": 3,
   "id": "37c6e764",
   "metadata": {},
   "outputs": [
    {
     "name": "stdout",
     "output_type": "stream",
     "text": [
      "This is an empty list \t []\n",
      "This is a character list\t ['A', 'b', 'C', 'D', 'E', 'F']\n",
      "This is a string list \t ['Apple', 'Banana', 'CocoMelon', 'DragonFruit', 'Eggplant', 'Fig']\n",
      "This is a number list \t [1, 2, 3, 4, 5, 6, 7, 8, 9, 10]\n",
      "This is a mixed list \t ['Apple', 'oranges', 23423, 34534.435, True, 'A']\n",
      "We are going to Learn more about list Manupulation in python\n"
     ]
    }
   ],
   "source": [
    "#learing about the list in python\n",
    "l1=[] #empty list\n",
    "l2=[\"A\",\"b\",\"C\",\"D\",\"E\",\"F\"]\n",
    "l3=[\"Apple\",\"Banana\",\"CocoMelon\",\"DragonFruit\",\"Eggplant\",\"Fig\"]\n",
    "l4=[1,2,3,4,5,6,7,8,9,10]\n",
    "l5=[\"Apple\",\"oranges\",23423,34534.435,True,\"A\"]\n",
    "print(f\"This is an empty list \\t {l1}\")\n",
    "print(f\"This is a character list\\t {l2}\")\n",
    "print(f\"This is a string list \\t {l3}\")\n",
    "print(f\"This is a number list \\t {l4}\")\n",
    "print(f\"This is a mixed list \\t {l5}\")\n",
    "print(f\"We are going to Learn more about list Manupulation in python\")"
   ]
  },
  {
   "cell_type": "code",
   "execution_count": 4,
   "id": "49c7a62a",
   "metadata": {},
   "outputs": [
    {
     "name": "stdout",
     "output_type": "stream",
     "text": [
      "Hello \t Sayaan \t nice to meet you\n"
     ]
    }
   ],
   "source": [
    "#now we will learn about the user inout function in python\n",
    "name=str(input(\"enter your name\"))\n",
    "greetings =\"nice to meet you\"\n",
    "print(f\"Hello \\t {name} \\t {greetings}\")\n"
   ]
  },
  {
   "cell_type": "code",
   "execution_count": 5,
   "id": "c493ead9",
   "metadata": {},
   "outputs": [
    {
     "name": "stdout",
     "output_type": "stream",
     "text": [
      "Print the area of circle\n",
      "Area of circle  = 171933.84 where radius = 234 and pi =3.14\n"
     ]
    }
   ],
   "source": [
    "print(\"Print the area of circle\")\n",
    "pi=3.14\n",
    "r=int(input(\"enter the value of radius\"))\n",
    "area=pi*r**2\n",
    "print(f\"Area of circle  = {area} where radius = {r} and pi ={pi}\")"
   ]
  },
  {
   "cell_type": "code",
   "execution_count": 6,
   "id": "d6d7a06c",
   "metadata": {},
   "outputs": [
    {
     "name": "stdout",
     "output_type": "stream",
     "text": [
      "Hey\n",
      "Sayaan Frah\n"
     ]
    }
   ],
   "source": [
    "print(\"Heyllo\"[0:3]) #In slicing the index value given at last in exclusive \n",
    "print(\"Sayaan Frah\"[:])\n"
   ]
  },
  {
   "cell_type": "code",
   "execution_count": 7,
   "id": "ed751df1",
   "metadata": {},
   "outputs": [
    {
     "name": "stdout",
     "output_type": "stream",
     "text": [
      "My name is Sayaan\n"
     ]
    }
   ],
   "source": [
    "print(f\"My name is {name}\")"
   ]
  },
  {
   "cell_type": "code",
   "execution_count": 8,
   "id": "e97619be",
   "metadata": {},
   "outputs": [
    {
     "data": {
      "text/plain": [
       "['Mango', 'oranges', 23423, 34534.435, True, 'A']"
      ]
     },
     "execution_count": 8,
     "metadata": {},
     "output_type": "execute_result"
    }
   ],
   "source": [
    "l5[0]=\"Mango\"\n",
    "l5"
   ]
  },
  {
   "cell_type": "code",
   "execution_count": 9,
   "id": "6e020128",
   "metadata": {},
   "outputs": [
    {
     "name": "stdout",
     "output_type": "stream",
     "text": [
      "['Mango', 'oranges', 23423, 34534.435, True, 'A', 'Water Melon', 'Mango', 'oranges', 23423, 34534.435, True, 'A', 'Water Melon', 'Mango', 'oranges', 23423, 34534.435, True, 'A', 'Water Melon', 'Mango', 'oranges', 23423, 34534.435, True, 'A', 'Water Melon']\n"
     ]
    }
   ],
   "source": [
    "l5.append(\"Water Melon\")\n",
    "print(l5*4)"
   ]
  },
  {
   "cell_type": "code",
   "execution_count": 10,
   "id": "b63e014b",
   "metadata": {},
   "outputs": [
    {
     "name": "stdout",
     "output_type": "stream",
     "text": [
      "['Mango', 'oranges', 23423, 34534.435, True, 'A', 'Water Melon']\n"
     ]
    }
   ],
   "source": [
    "print(l5)"
   ]
  },
  {
   "cell_type": "code",
   "execution_count": 11,
   "id": "24e5f98c",
   "metadata": {},
   "outputs": [
    {
     "data": {
      "text/plain": [
       "'Water Melon'"
      ]
     },
     "execution_count": 11,
     "metadata": {},
     "output_type": "execute_result"
    }
   ],
   "source": [
    "l5.pop()"
   ]
  },
  {
   "cell_type": "code",
   "execution_count": 12,
   "id": "249a9858",
   "metadata": {},
   "outputs": [
    {
     "data": {
      "text/plain": [
       "'A'"
      ]
     },
     "execution_count": 12,
     "metadata": {},
     "output_type": "execute_result"
    }
   ],
   "source": [
    "l5.pop()"
   ]
  },
  {
   "cell_type": "code",
   "execution_count": 13,
   "id": "d52f0116",
   "metadata": {},
   "outputs": [
    {
     "data": {
      "text/plain": [
       "['Mango', 'oranges', 23423, 34534.435, True]"
      ]
     },
     "execution_count": 13,
     "metadata": {},
     "output_type": "execute_result"
    }
   ],
   "source": [
    "l5"
   ]
  },
  {
   "cell_type": "code",
   "execution_count": 14,
   "id": "bb212efe",
   "metadata": {},
   "outputs": [
    {
     "ename": "ValueError",
     "evalue": "list.remove(x): x not in list",
     "output_type": "error",
     "traceback": [
      "\u001b[31m---------------------------------------------------------------------------\u001b[39m",
      "\u001b[31mValueError\u001b[39m                                Traceback (most recent call last)",
      "\u001b[36mCell\u001b[39m\u001b[36m \u001b[39m\u001b[32mIn[14]\u001b[39m\u001b[32m, line 1\u001b[39m\n\u001b[32m----> \u001b[39m\u001b[32m1\u001b[39m \u001b[43ml5\u001b[49m\u001b[43m.\u001b[49m\u001b[43mremove\u001b[49m\u001b[43m(\u001b[49m\u001b[33;43m\"\u001b[39;49m\u001b[33;43mWater Melon\u001b[39;49m\u001b[33;43m\"\u001b[39;49m\u001b[43m)\u001b[49m\n",
      "\u001b[31mValueError\u001b[39m: list.remove(x): x not in list"
     ]
    }
   ],
   "source": [
    "l5.remove(\"Water Melon\")"
   ]
  },
  {
   "cell_type": "code",
   "execution_count": null,
   "id": "c5c2bf4e",
   "metadata": {},
   "outputs": [
    {
     "data": {
      "text/plain": [
       "['Mango', 'oranges', 23423, 34534.435, True, 'A']"
      ]
     },
     "execution_count": 29,
     "metadata": {},
     "output_type": "execute_result"
    }
   ],
   "source": [
    "l5"
   ]
  },
  {
   "cell_type": "code",
   "execution_count": null,
   "id": "a6dd68a6",
   "metadata": {},
   "outputs": [
    {
     "name": "stdout",
     "output_type": "stream",
     "text": [
      "['Apple']\n",
      "['Apple', 'Banana']\n",
      "['Apple', 'Banana', 'CocoMelon']\n",
      "['Apple', 'Banana', 'CocoMelon', 'DragonFruit']\n",
      "['Apple', 'Banana', 'CocoMelon', 'DragonFruit', 'Eggplant']\n"
     ]
    }
   ],
   "source": [
    "#now we are going to learn append functions in python\n",
    "l6=[]\n",
    "l6.append(\"Apple\")\n",
    "print(l6)\n",
    "l6.append(\"Banana\")\n",
    "print(l6)\n",
    "l6.append(\"CocoMelon\")\n",
    "print(l6)\n",
    "l6.append(\"DragonFruit\")\n",
    "print(l6)\n",
    "l6.append(\"Eggplant\")\n",
    "print(l6)"
   ]
  },
  {
   "cell_type": "code",
   "execution_count": null,
   "id": "a8d20b1d",
   "metadata": {},
   "outputs": [
    {
     "data": {
      "text/plain": [
       "['Apple', 'Banana', 'CocoMelon', 'DragonFruit', 'Eggplant']"
      ]
     },
     "execution_count": 36,
     "metadata": {},
     "output_type": "execute_result"
    }
   ],
   "source": [
    "l6"
   ]
  },
  {
   "cell_type": "code",
   "execution_count": null,
   "id": "46262ae4",
   "metadata": {},
   "outputs": [
    {
     "name": "stdout",
     "output_type": "stream",
     "text": [
      "['Apple', 'Banana', 'CocoMelon', 'DragonFruit', 'Eggplant', 'Fig', 'Fig']\n",
      "['Apple', 'Banana', 'CocoMelon', 'DragonFruit', 'Eggplant', 'Fig', 'Guava', 'Fig']\n",
      "['Apple', 'Banana', 'CocoMelon', 'DragonFruit', 'Eggplant', 'Fig', 'Guava', 'HackBerry', 'Fig']\n",
      "['Apple', 'Banana', 'CocoMelon', 'DragonFruit', 'Eggplant', 'Fig', 'Guava', 'HackBerry', 'Ice_apple', 'Fig']\n"
     ]
    }
   ],
   "source": [
    "#learning about the insert functions in python\n",
    "l6.insert(5,\"Fig\")\n",
    "print(l6)\n",
    "l6.insert(6,\"Guava\")\n",
    "print(l6)\n",
    "l6.insert(7,\"HackBerry\")\n",
    "print(l6)\n",
    "l6.insert(8,'Ice_apple')\n",
    "print(l6)\n"
   ]
  },
  {
   "cell_type": "code",
   "execution_count": null,
   "id": "17621c63",
   "metadata": {},
   "outputs": [
    {
     "name": "stdout",
     "output_type": "stream",
     "text": [
      "['Apple', 'Banana', 'CocoMelon', 'DragonFruit', 'Eggplant', 'Fig', 'Guava', 'HackBerry', 'Ice_apple', 'Fig']\n"
     ]
    }
   ],
   "source": [
    "print(l6)"
   ]
  },
  {
   "cell_type": "code",
   "execution_count": null,
   "id": "f810272e",
   "metadata": {},
   "outputs": [],
   "source": [
    "l6.remove(\"Fig\")"
   ]
  },
  {
   "cell_type": "code",
   "execution_count": null,
   "id": "5a7e8a9a",
   "metadata": {},
   "outputs": [
    {
     "data": {
      "text/plain": [
       "['Apple',\n",
       " 'Banana',\n",
       " 'CocoMelon',\n",
       " 'DragonFruit',\n",
       " 'Eggplant',\n",
       " 'Guava',\n",
       " 'HackBerry',\n",
       " 'Ice_apple',\n",
       " 'Fig']"
      ]
     },
     "execution_count": 41,
     "metadata": {},
     "output_type": "execute_result"
    }
   ],
   "source": [
    "l6"
   ]
  },
  {
   "cell_type": "code",
   "execution_count": null,
   "id": "a5424aa0",
   "metadata": {},
   "outputs": [],
   "source": [
    "l6.insert(6,\"Fig\")"
   ]
  },
  {
   "cell_type": "code",
   "execution_count": null,
   "id": "9025e704",
   "metadata": {},
   "outputs": [
    {
     "data": {
      "text/plain": [
       "['Apple',\n",
       " 'Banana',\n",
       " 'CocoMelon',\n",
       " 'DragonFruit',\n",
       " 'Eggplant',\n",
       " 'Guava',\n",
       " 'Fig',\n",
       " 'HackBerry',\n",
       " 'Ice_apple',\n",
       " 'Fig']"
      ]
     },
     "execution_count": 43,
     "metadata": {},
     "output_type": "execute_result"
    }
   ],
   "source": [
    "l6"
   ]
  },
  {
   "cell_type": "code",
   "execution_count": null,
   "id": "6881ca27",
   "metadata": {},
   "outputs": [
    {
     "data": {
      "text/plain": [
       "'Fig'"
      ]
     },
     "execution_count": 44,
     "metadata": {},
     "output_type": "execute_result"
    }
   ],
   "source": [
    "l6.pop()"
   ]
  },
  {
   "cell_type": "code",
   "execution_count": null,
   "id": "641c196f",
   "metadata": {},
   "outputs": [
    {
     "name": "stdout",
     "output_type": "stream",
     "text": [
      "['Apple', 'Banana', 'CocoMelon', 'DragonFruit', 'Eggplant', 'Guava', 'Fig', 'HackBerry', 'Ice_apple']\n",
      "['Apple', 'Banana', 'CocoMelon', 'DragonFruit', 'Eggplant', 'Guava', 'Fig']\n"
     ]
    }
   ],
   "source": [
    "l6.reverse()\n",
    "print(l6)\n",
    "print(l6[0:7])"
   ]
  },
  {
   "cell_type": "code",
   "execution_count": null,
   "id": "96a8bdba",
   "metadata": {},
   "outputs": [
    {
     "name": "stdout",
     "output_type": "stream",
     "text": [
      "Here the value for last digit is 100 and the list is [88, 89, 100]\n",
      " Here the value for last digit is 90 and the list is [88, 89, 90]\n"
     ]
    }
   ],
   "source": [
    "#now we will learn about typecasting in list\n",
    "l3=[88,89,100]\n",
    "print( f\"Here the value for last digit is {l3[2]} and the list is {l3}\")\n",
    "l3[2]=90\n",
    "print(f\" Here the value for last digit is {l3[2]} and the list is {l3}\")"
   ]
  },
  {
   "cell_type": "code",
   "execution_count": null,
   "id": "5ee6fec4",
   "metadata": {},
   "outputs": [],
   "source": [
    "fruitlist=l6"
   ]
  },
  {
   "cell_type": "code",
   "execution_count": null,
   "id": "4a485052",
   "metadata": {},
   "outputs": [
    {
     "data": {
      "text/plain": [
       "9"
      ]
     },
     "execution_count": 55,
     "metadata": {},
     "output_type": "execute_result"
    }
   ],
   "source": [
    "len(fruitlist)"
   ]
  },
  {
   "cell_type": "code",
   "execution_count": null,
   "id": "66eb6691",
   "metadata": {},
   "outputs": [
    {
     "name": "stdout",
     "output_type": "stream",
     "text": [
      "Initialised the data\n",
      "The teacher details  Maizbeen 35 Madhya Pradesh Bhopal\n"
     ]
    }
   ],
   "source": [
    "class teachers:\n",
    "    def __init__(self,name,age,state,address):\n",
    "        print(\"Initialised the data\")\n",
    "        self.name=name\n",
    "        self.age=age\n",
    "        self.state=state\n",
    "        self.address=address\n",
    "    def getdata(self,name,age,state,address):\n",
    "        self.name=name\n",
    "        self.age=age\n",
    "        self.state=state\n",
    "        self.address=address\n",
    "    def displaydata(self):\n",
    "        print(\"The teacher details \",self.name,self.age,self.state,self.address)\n",
    "def main():\n",
    "    t=teachers(\"Maizbeen\",35,\"Madhya Pradesh\",\"Bhopal\")\n",
    "    t.displaydata()\n",
    "if __name__==\"__main__\":\n",
    "    main()"
   ]
  },
  {
   "cell_type": "code",
   "execution_count": null,
   "id": "40c493f8",
   "metadata": {},
   "outputs": [
    {
     "data": {
      "text/plain": [
       "{'data': array([[5.1, 3.5, 1.4, 0.2],\n",
       "        [4.9, 3. , 1.4, 0.2],\n",
       "        [4.7, 3.2, 1.3, 0.2],\n",
       "        [4.6, 3.1, 1.5, 0.2],\n",
       "        [5. , 3.6, 1.4, 0.2],\n",
       "        [5.4, 3.9, 1.7, 0.4],\n",
       "        [4.6, 3.4, 1.4, 0.3],\n",
       "        [5. , 3.4, 1.5, 0.2],\n",
       "        [4.4, 2.9, 1.4, 0.2],\n",
       "        [4.9, 3.1, 1.5, 0.1],\n",
       "        [5.4, 3.7, 1.5, 0.2],\n",
       "        [4.8, 3.4, 1.6, 0.2],\n",
       "        [4.8, 3. , 1.4, 0.1],\n",
       "        [4.3, 3. , 1.1, 0.1],\n",
       "        [5.8, 4. , 1.2, 0.2],\n",
       "        [5.7, 4.4, 1.5, 0.4],\n",
       "        [5.4, 3.9, 1.3, 0.4],\n",
       "        [5.1, 3.5, 1.4, 0.3],\n",
       "        [5.7, 3.8, 1.7, 0.3],\n",
       "        [5.1, 3.8, 1.5, 0.3],\n",
       "        [5.4, 3.4, 1.7, 0.2],\n",
       "        [5.1, 3.7, 1.5, 0.4],\n",
       "        [4.6, 3.6, 1. , 0.2],\n",
       "        [5.1, 3.3, 1.7, 0.5],\n",
       "        [4.8, 3.4, 1.9, 0.2],\n",
       "        [5. , 3. , 1.6, 0.2],\n",
       "        [5. , 3.4, 1.6, 0.4],\n",
       "        [5.2, 3.5, 1.5, 0.2],\n",
       "        [5.2, 3.4, 1.4, 0.2],\n",
       "        [4.7, 3.2, 1.6, 0.2],\n",
       "        [4.8, 3.1, 1.6, 0.2],\n",
       "        [5.4, 3.4, 1.5, 0.4],\n",
       "        [5.2, 4.1, 1.5, 0.1],\n",
       "        [5.5, 4.2, 1.4, 0.2],\n",
       "        [4.9, 3.1, 1.5, 0.2],\n",
       "        [5. , 3.2, 1.2, 0.2],\n",
       "        [5.5, 3.5, 1.3, 0.2],\n",
       "        [4.9, 3.6, 1.4, 0.1],\n",
       "        [4.4, 3. , 1.3, 0.2],\n",
       "        [5.1, 3.4, 1.5, 0.2],\n",
       "        [5. , 3.5, 1.3, 0.3],\n",
       "        [4.5, 2.3, 1.3, 0.3],\n",
       "        [4.4, 3.2, 1.3, 0.2],\n",
       "        [5. , 3.5, 1.6, 0.6],\n",
       "        [5.1, 3.8, 1.9, 0.4],\n",
       "        [4.8, 3. , 1.4, 0.3],\n",
       "        [5.1, 3.8, 1.6, 0.2],\n",
       "        [4.6, 3.2, 1.4, 0.2],\n",
       "        [5.3, 3.7, 1.5, 0.2],\n",
       "        [5. , 3.3, 1.4, 0.2],\n",
       "        [7. , 3.2, 4.7, 1.4],\n",
       "        [6.4, 3.2, 4.5, 1.5],\n",
       "        [6.9, 3.1, 4.9, 1.5],\n",
       "        [5.5, 2.3, 4. , 1.3],\n",
       "        [6.5, 2.8, 4.6, 1.5],\n",
       "        [5.7, 2.8, 4.5, 1.3],\n",
       "        [6.3, 3.3, 4.7, 1.6],\n",
       "        [4.9, 2.4, 3.3, 1. ],\n",
       "        [6.6, 2.9, 4.6, 1.3],\n",
       "        [5.2, 2.7, 3.9, 1.4],\n",
       "        [5. , 2. , 3.5, 1. ],\n",
       "        [5.9, 3. , 4.2, 1.5],\n",
       "        [6. , 2.2, 4. , 1. ],\n",
       "        [6.1, 2.9, 4.7, 1.4],\n",
       "        [5.6, 2.9, 3.6, 1.3],\n",
       "        [6.7, 3.1, 4.4, 1.4],\n",
       "        [5.6, 3. , 4.5, 1.5],\n",
       "        [5.8, 2.7, 4.1, 1. ],\n",
       "        [6.2, 2.2, 4.5, 1.5],\n",
       "        [5.6, 2.5, 3.9, 1.1],\n",
       "        [5.9, 3.2, 4.8, 1.8],\n",
       "        [6.1, 2.8, 4. , 1.3],\n",
       "        [6.3, 2.5, 4.9, 1.5],\n",
       "        [6.1, 2.8, 4.7, 1.2],\n",
       "        [6.4, 2.9, 4.3, 1.3],\n",
       "        [6.6, 3. , 4.4, 1.4],\n",
       "        [6.8, 2.8, 4.8, 1.4],\n",
       "        [6.7, 3. , 5. , 1.7],\n",
       "        [6. , 2.9, 4.5, 1.5],\n",
       "        [5.7, 2.6, 3.5, 1. ],\n",
       "        [5.5, 2.4, 3.8, 1.1],\n",
       "        [5.5, 2.4, 3.7, 1. ],\n",
       "        [5.8, 2.7, 3.9, 1.2],\n",
       "        [6. , 2.7, 5.1, 1.6],\n",
       "        [5.4, 3. , 4.5, 1.5],\n",
       "        [6. , 3.4, 4.5, 1.6],\n",
       "        [6.7, 3.1, 4.7, 1.5],\n",
       "        [6.3, 2.3, 4.4, 1.3],\n",
       "        [5.6, 3. , 4.1, 1.3],\n",
       "        [5.5, 2.5, 4. , 1.3],\n",
       "        [5.5, 2.6, 4.4, 1.2],\n",
       "        [6.1, 3. , 4.6, 1.4],\n",
       "        [5.8, 2.6, 4. , 1.2],\n",
       "        [5. , 2.3, 3.3, 1. ],\n",
       "        [5.6, 2.7, 4.2, 1.3],\n",
       "        [5.7, 3. , 4.2, 1.2],\n",
       "        [5.7, 2.9, 4.2, 1.3],\n",
       "        [6.2, 2.9, 4.3, 1.3],\n",
       "        [5.1, 2.5, 3. , 1.1],\n",
       "        [5.7, 2.8, 4.1, 1.3],\n",
       "        [6.3, 3.3, 6. , 2.5],\n",
       "        [5.8, 2.7, 5.1, 1.9],\n",
       "        [7.1, 3. , 5.9, 2.1],\n",
       "        [6.3, 2.9, 5.6, 1.8],\n",
       "        [6.5, 3. , 5.8, 2.2],\n",
       "        [7.6, 3. , 6.6, 2.1],\n",
       "        [4.9, 2.5, 4.5, 1.7],\n",
       "        [7.3, 2.9, 6.3, 1.8],\n",
       "        [6.7, 2.5, 5.8, 1.8],\n",
       "        [7.2, 3.6, 6.1, 2.5],\n",
       "        [6.5, 3.2, 5.1, 2. ],\n",
       "        [6.4, 2.7, 5.3, 1.9],\n",
       "        [6.8, 3. , 5.5, 2.1],\n",
       "        [5.7, 2.5, 5. , 2. ],\n",
       "        [5.8, 2.8, 5.1, 2.4],\n",
       "        [6.4, 3.2, 5.3, 2.3],\n",
       "        [6.5, 3. , 5.5, 1.8],\n",
       "        [7.7, 3.8, 6.7, 2.2],\n",
       "        [7.7, 2.6, 6.9, 2.3],\n",
       "        [6. , 2.2, 5. , 1.5],\n",
       "        [6.9, 3.2, 5.7, 2.3],\n",
       "        [5.6, 2.8, 4.9, 2. ],\n",
       "        [7.7, 2.8, 6.7, 2. ],\n",
       "        [6.3, 2.7, 4.9, 1.8],\n",
       "        [6.7, 3.3, 5.7, 2.1],\n",
       "        [7.2, 3.2, 6. , 1.8],\n",
       "        [6.2, 2.8, 4.8, 1.8],\n",
       "        [6.1, 3. , 4.9, 1.8],\n",
       "        [6.4, 2.8, 5.6, 2.1],\n",
       "        [7.2, 3. , 5.8, 1.6],\n",
       "        [7.4, 2.8, 6.1, 1.9],\n",
       "        [7.9, 3.8, 6.4, 2. ],\n",
       "        [6.4, 2.8, 5.6, 2.2],\n",
       "        [6.3, 2.8, 5.1, 1.5],\n",
       "        [6.1, 2.6, 5.6, 1.4],\n",
       "        [7.7, 3. , 6.1, 2.3],\n",
       "        [6.3, 3.4, 5.6, 2.4],\n",
       "        [6.4, 3.1, 5.5, 1.8],\n",
       "        [6. , 3. , 4.8, 1.8],\n",
       "        [6.9, 3.1, 5.4, 2.1],\n",
       "        [6.7, 3.1, 5.6, 2.4],\n",
       "        [6.9, 3.1, 5.1, 2.3],\n",
       "        [5.8, 2.7, 5.1, 1.9],\n",
       "        [6.8, 3.2, 5.9, 2.3],\n",
       "        [6.7, 3.3, 5.7, 2.5],\n",
       "        [6.7, 3. , 5.2, 2.3],\n",
       "        [6.3, 2.5, 5. , 1.9],\n",
       "        [6.5, 3. , 5.2, 2. ],\n",
       "        [6.2, 3.4, 5.4, 2.3],\n",
       "        [5.9, 3. , 5.1, 1.8]]),\n",
       " 'target': array([0, 0, 0, 0, 0, 0, 0, 0, 0, 0, 0, 0, 0, 0, 0, 0, 0, 0, 0, 0, 0, 0,\n",
       "        0, 0, 0, 0, 0, 0, 0, 0, 0, 0, 0, 0, 0, 0, 0, 0, 0, 0, 0, 0, 0, 0,\n",
       "        0, 0, 0, 0, 0, 0, 1, 1, 1, 1, 1, 1, 1, 1, 1, 1, 1, 1, 1, 1, 1, 1,\n",
       "        1, 1, 1, 1, 1, 1, 1, 1, 1, 1, 1, 1, 1, 1, 1, 1, 1, 1, 1, 1, 1, 1,\n",
       "        1, 1, 1, 1, 1, 1, 1, 1, 1, 1, 1, 1, 2, 2, 2, 2, 2, 2, 2, 2, 2, 2,\n",
       "        2, 2, 2, 2, 2, 2, 2, 2, 2, 2, 2, 2, 2, 2, 2, 2, 2, 2, 2, 2, 2, 2,\n",
       "        2, 2, 2, 2, 2, 2, 2, 2, 2, 2, 2, 2, 2, 2, 2, 2, 2, 2]),\n",
       " 'frame': None,\n",
       " 'target_names': array(['setosa', 'versicolor', 'virginica'], dtype='<U10'),\n",
       " 'DESCR': '.. _iris_dataset:\\n\\nIris plants dataset\\n--------------------\\n\\n**Data Set Characteristics:**\\n\\n:Number of Instances: 150 (50 in each of three classes)\\n:Number of Attributes: 4 numeric, predictive attributes and the class\\n:Attribute Information:\\n    - sepal length in cm\\n    - sepal width in cm\\n    - petal length in cm\\n    - petal width in cm\\n    - class:\\n            - Iris-Setosa\\n            - Iris-Versicolour\\n            - Iris-Virginica\\n\\n:Summary Statistics:\\n\\n============== ==== ==== ======= ===== ====================\\n                Min  Max   Mean    SD   Class Correlation\\n============== ==== ==== ======= ===== ====================\\nsepal length:   4.3  7.9   5.84   0.83    0.7826\\nsepal width:    2.0  4.4   3.05   0.43   -0.4194\\npetal length:   1.0  6.9   3.76   1.76    0.9490  (high!)\\npetal width:    0.1  2.5   1.20   0.76    0.9565  (high!)\\n============== ==== ==== ======= ===== ====================\\n\\n:Missing Attribute Values: None\\n:Class Distribution: 33.3% for each of 3 classes.\\n:Creator: R.A. Fisher\\n:Donor: Michael Marshall (MARSHALL%PLU@io.arc.nasa.gov)\\n:Date: July, 1988\\n\\nThe famous Iris database, first used by Sir R.A. Fisher. The dataset is taken\\nfrom Fisher\\'s paper. Note that it\\'s the same as in R, but not as in the UCI\\nMachine Learning Repository, which has two wrong data points.\\n\\nThis is perhaps the best known database to be found in the\\npattern recognition literature.  Fisher\\'s paper is a classic in the field and\\nis referenced frequently to this day.  (See Duda & Hart, for example.)  The\\ndata set contains 3 classes of 50 instances each, where each class refers to a\\ntype of iris plant.  One class is linearly separable from the other 2; the\\nlatter are NOT linearly separable from each other.\\n\\n.. dropdown:: References\\n\\n  - Fisher, R.A. \"The use of multiple measurements in taxonomic problems\"\\n    Annual Eugenics, 7, Part II, 179-188 (1936); also in \"Contributions to\\n    Mathematical Statistics\" (John Wiley, NY, 1950).\\n  - Duda, R.O., & Hart, P.E. (1973) Pattern Classification and Scene Analysis.\\n    (Q327.D83) John Wiley & Sons.  ISBN 0-471-22361-1.  See page 218.\\n  - Dasarathy, B.V. (1980) \"Nosing Around the Neighborhood: A New System\\n    Structure and Classification Rule for Recognition in Partially Exposed\\n    Environments\".  IEEE Transactions on Pattern Analysis and Machine\\n    Intelligence, Vol. PAMI-2, No. 1, 67-71.\\n  - Gates, G.W. (1972) \"The Reduced Nearest Neighbor Rule\".  IEEE Transactions\\n    on Information Theory, May 1972, 431-433.\\n  - See also: 1988 MLC Proceedings, 54-64.  Cheeseman et al\"s AUTOCLASS II\\n    conceptual clustering system finds 3 classes in the data.\\n  - Many, many more ...\\n',\n",
       " 'feature_names': ['sepal length (cm)',\n",
       "  'sepal width (cm)',\n",
       "  'petal length (cm)',\n",
       "  'petal width (cm)'],\n",
       " 'filename': 'iris.csv',\n",
       " 'data_module': 'sklearn.datasets.data'}"
      ]
     },
     "execution_count": 59,
     "metadata": {},
     "output_type": "execute_result"
    }
   ],
   "source": [
    "import sklearn\n",
    "from sklearn.datasets import load_iris \n",
    "iris=load_iris()\n",
    "iris"
   ]
  },
  {
   "cell_type": "code",
   "execution_count": null,
   "id": "c3923693",
   "metadata": {},
   "outputs": [],
   "source": [
    "import pandas as pd\n",
    "import numpy as np\n",
    "df=pd.DataFrame(iris.data,columns=iris.feature_names)\n",
    "df['target']=iris.target\n",
    "df.rename(columns={\"sepal length (cm)\": \"sepal_length\",\"sepal width (cm)\":\"sepal_width\",\"petal length (cm)\":\"petal_length\",\"petal width (cm)\":\"petal_width\"},inplace=True)"
   ]
  },
  {
   "cell_type": "code",
   "execution_count": null,
   "id": "2cc763d1",
   "metadata": {},
   "outputs": [
    {
     "data": {
      "text/html": [
       "<div>\n",
       "<style scoped>\n",
       "    .dataframe tbody tr th:only-of-type {\n",
       "        vertical-align: middle;\n",
       "    }\n",
       "\n",
       "    .dataframe tbody tr th {\n",
       "        vertical-align: top;\n",
       "    }\n",
       "\n",
       "    .dataframe thead th {\n",
       "        text-align: right;\n",
       "    }\n",
       "</style>\n",
       "<table border=\"1\" class=\"dataframe\">\n",
       "  <thead>\n",
       "    <tr style=\"text-align: right;\">\n",
       "      <th></th>\n",
       "      <th>sepal_length</th>\n",
       "      <th>sepal_width</th>\n",
       "      <th>petal_length</th>\n",
       "      <th>petal_width</th>\n",
       "      <th>target</th>\n",
       "    </tr>\n",
       "  </thead>\n",
       "  <tbody>\n",
       "    <tr>\n",
       "      <th>0</th>\n",
       "      <td>5.1</td>\n",
       "      <td>3.5</td>\n",
       "      <td>1.4</td>\n",
       "      <td>0.2</td>\n",
       "      <td>0</td>\n",
       "    </tr>\n",
       "    <tr>\n",
       "      <th>1</th>\n",
       "      <td>4.9</td>\n",
       "      <td>3.0</td>\n",
       "      <td>1.4</td>\n",
       "      <td>0.2</td>\n",
       "      <td>0</td>\n",
       "    </tr>\n",
       "    <tr>\n",
       "      <th>2</th>\n",
       "      <td>4.7</td>\n",
       "      <td>3.2</td>\n",
       "      <td>1.3</td>\n",
       "      <td>0.2</td>\n",
       "      <td>0</td>\n",
       "    </tr>\n",
       "    <tr>\n",
       "      <th>3</th>\n",
       "      <td>4.6</td>\n",
       "      <td>3.1</td>\n",
       "      <td>1.5</td>\n",
       "      <td>0.2</td>\n",
       "      <td>0</td>\n",
       "    </tr>\n",
       "    <tr>\n",
       "      <th>4</th>\n",
       "      <td>5.0</td>\n",
       "      <td>3.6</td>\n",
       "      <td>1.4</td>\n",
       "      <td>0.2</td>\n",
       "      <td>0</td>\n",
       "    </tr>\n",
       "    <tr>\n",
       "      <th>...</th>\n",
       "      <td>...</td>\n",
       "      <td>...</td>\n",
       "      <td>...</td>\n",
       "      <td>...</td>\n",
       "      <td>...</td>\n",
       "    </tr>\n",
       "    <tr>\n",
       "      <th>145</th>\n",
       "      <td>6.7</td>\n",
       "      <td>3.0</td>\n",
       "      <td>5.2</td>\n",
       "      <td>2.3</td>\n",
       "      <td>2</td>\n",
       "    </tr>\n",
       "    <tr>\n",
       "      <th>146</th>\n",
       "      <td>6.3</td>\n",
       "      <td>2.5</td>\n",
       "      <td>5.0</td>\n",
       "      <td>1.9</td>\n",
       "      <td>2</td>\n",
       "    </tr>\n",
       "    <tr>\n",
       "      <th>147</th>\n",
       "      <td>6.5</td>\n",
       "      <td>3.0</td>\n",
       "      <td>5.2</td>\n",
       "      <td>2.0</td>\n",
       "      <td>2</td>\n",
       "    </tr>\n",
       "    <tr>\n",
       "      <th>148</th>\n",
       "      <td>6.2</td>\n",
       "      <td>3.4</td>\n",
       "      <td>5.4</td>\n",
       "      <td>2.3</td>\n",
       "      <td>2</td>\n",
       "    </tr>\n",
       "    <tr>\n",
       "      <th>149</th>\n",
       "      <td>5.9</td>\n",
       "      <td>3.0</td>\n",
       "      <td>5.1</td>\n",
       "      <td>1.8</td>\n",
       "      <td>2</td>\n",
       "    </tr>\n",
       "  </tbody>\n",
       "</table>\n",
       "<p>150 rows × 5 columns</p>\n",
       "</div>"
      ],
      "text/plain": [
       "     sepal_length  sepal_width  petal_length  petal_width  target\n",
       "0             5.1          3.5           1.4          0.2       0\n",
       "1             4.9          3.0           1.4          0.2       0\n",
       "2             4.7          3.2           1.3          0.2       0\n",
       "3             4.6          3.1           1.5          0.2       0\n",
       "4             5.0          3.6           1.4          0.2       0\n",
       "..            ...          ...           ...          ...     ...\n",
       "145           6.7          3.0           5.2          2.3       2\n",
       "146           6.3          2.5           5.0          1.9       2\n",
       "147           6.5          3.0           5.2          2.0       2\n",
       "148           6.2          3.4           5.4          2.3       2\n",
       "149           5.9          3.0           5.1          1.8       2\n",
       "\n",
       "[150 rows x 5 columns]"
      ]
     },
     "execution_count": 69,
     "metadata": {},
     "output_type": "execute_result"
    }
   ],
   "source": [
    "df"
   ]
  },
  {
   "cell_type": "code",
   "execution_count": null,
   "id": "2a2bee86",
   "metadata": {},
   "outputs": [
    {
     "data": {
      "text/plain": [
       "<seaborn.axisgrid.FacetGrid at 0x23d117a3770>"
      ]
     },
     "execution_count": 72,
     "metadata": {},
     "output_type": "execute_result"
    },
    {
     "data": {
      "image/png": "[encoded data removed]",
      "text/plain": [
       "<Figure size 500x500 with 1 Axes>"
      ]
     },
     "metadata": {},
     "output_type": "display_data"
    }
   ],
   "source": [
    "import seaborn as sns\n",
    "sns.displot(df['petal_length'],kde=True)"
   ]
  },
  {
   "cell_type": "code",
   "execution_count": null,
   "id": "dd921ef9",
   "metadata": {},
   "outputs": [
    {
     "data": {
      "text/plain": [
       "<Axes: >"
      ]
     },
     "execution_count": 79,
     "metadata": {},
     "output_type": "execute_result"
    },
    {
     "data": {
      "image/png": "[encoded data removed]",
      "text/plain": [
       "<Figure size 640x480 with 1 Axes>"
      ]
     },
     "metadata": {},
     "output_type": "display_data"
    }
   ],
   "source": [
    "df.plot.box()"
   ]
  },
  {
   "cell_type": "code",
   "execution_count": null,
   "id": "81653334",
   "metadata": {},
   "outputs": [
    {
     "data": {
      "text/plain": [
       "<Axes: >"
      ]
     },
     "execution_count": 80,
     "metadata": {},
     "output_type": "execute_result"
    },
    {
     "data": {
      "image/png": "[encoded data removed]",
      "text/plain": [
       "<Figure size 640x480 with 1 Axes>"
      ]
     },
     "metadata": {},
     "output_type": "display_data"
    }
   ],
   "source": [
    "df.plot.area()"
   ]
  },
  {
   "cell_type": "code",
   "execution_count": null,
   "id": "b27f285c",
   "metadata": {},
   "outputs": [
    {
     "data": {
      "text/html": [
       "<div>\n",
       "<style scoped>\n",
       "    .dataframe tbody tr th:only-of-type {\n",
       "        vertical-align: middle;\n",
       "    }\n",
       "\n",
       "    .dataframe tbody tr th {\n",
       "        vertical-align: top;\n",
       "    }\n",
       "\n",
       "    .dataframe thead th {\n",
       "        text-align: right;\n",
       "    }\n",
       "</style>\n",
       "<table border=\"1\" class=\"dataframe\">\n",
       "  <thead>\n",
       "    <tr style=\"text-align: right;\">\n",
       "      <th></th>\n",
       "      <th>A</th>\n",
       "      <th>B</th>\n",
       "      <th>C</th>\n",
       "      <th>D</th>\n",
       "      <th>E</th>\n",
       "    </tr>\n",
       "  </thead>\n",
       "  <tbody>\n",
       "    <tr>\n",
       "      <th>0</th>\n",
       "      <td>-1.416965</td>\n",
       "      <td>-1.364671</td>\n",
       "      <td>-0.601294</td>\n",
       "      <td>0.846906</td>\n",
       "      <td>-0.127668</td>\n",
       "    </tr>\n",
       "    <tr>\n",
       "      <th>1</th>\n",
       "      <td>0.419676</td>\n",
       "      <td>0.976497</td>\n",
       "      <td>0.100893</td>\n",
       "      <td>-1.433431</td>\n",
       "      <td>0.589892</td>\n",
       "    </tr>\n",
       "    <tr>\n",
       "      <th>2</th>\n",
       "      <td>-1.392656</td>\n",
       "      <td>0.517017</td>\n",
       "      <td>0.543169</td>\n",
       "      <td>-1.789394</td>\n",
       "      <td>-1.020616</td>\n",
       "    </tr>\n",
       "    <tr>\n",
       "      <th>3</th>\n",
       "      <td>-1.078616</td>\n",
       "      <td>-0.063089</td>\n",
       "      <td>0.405910</td>\n",
       "      <td>-1.087116</td>\n",
       "      <td>-0.763486</td>\n",
       "    </tr>\n",
       "    <tr>\n",
       "      <th>4</th>\n",
       "      <td>-0.360719</td>\n",
       "      <td>-0.915905</td>\n",
       "      <td>0.287828</td>\n",
       "      <td>-1.923592</td>\n",
       "      <td>0.537503</td>\n",
       "    </tr>\n",
       "    <tr>\n",
       "      <th>5</th>\n",
       "      <td>1.921594</td>\n",
       "      <td>0.882688</td>\n",
       "      <td>-0.388400</td>\n",
       "      <td>-0.231164</td>\n",
       "      <td>-0.309749</td>\n",
       "    </tr>\n",
       "    <tr>\n",
       "      <th>6</th>\n",
       "      <td>0.555230</td>\n",
       "      <td>0.335210</td>\n",
       "      <td>-0.108886</td>\n",
       "      <td>-0.239209</td>\n",
       "      <td>1.233318</td>\n",
       "    </tr>\n",
       "    <tr>\n",
       "      <th>7</th>\n",
       "      <td>0.915964</td>\n",
       "      <td>0.339996</td>\n",
       "      <td>-2.034347</td>\n",
       "      <td>-0.357628</td>\n",
       "      <td>-1.608541</td>\n",
       "    </tr>\n",
       "    <tr>\n",
       "      <th>8</th>\n",
       "      <td>-1.227224</td>\n",
       "      <td>0.816303</td>\n",
       "      <td>1.428150</td>\n",
       "      <td>-0.057611</td>\n",
       "      <td>1.948284</td>\n",
       "    </tr>\n",
       "    <tr>\n",
       "      <th>9</th>\n",
       "      <td>-0.858529</td>\n",
       "      <td>1.464299</td>\n",
       "      <td>0.451191</td>\n",
       "      <td>-2.512439</td>\n",
       "      <td>-0.997208</td>\n",
       "    </tr>\n",
       "  </tbody>\n",
       "</table>\n",
       "</div>"
      ],
      "text/plain": [
       "          A         B         C         D         E\n",
       "0 -1.416965 -1.364671 -0.601294  0.846906 -0.127668\n",
       "1  0.419676  0.976497  0.100893 -1.433431  0.589892\n",
       "2 -1.392656  0.517017  0.543169 -1.789394 -1.020616\n",
       "3 -1.078616 -0.063089  0.405910 -1.087116 -0.763486\n",
       "4 -0.360719 -0.915905  0.287828 -1.923592  0.537503\n",
       "5  1.921594  0.882688 -0.388400 -0.231164 -0.309749\n",
       "6  0.555230  0.335210 -0.108886 -0.239209  1.233318\n",
       "7  0.915964  0.339996 -2.034347 -0.357628 -1.608541\n",
       "8 -1.227224  0.816303  1.428150 -0.057611  1.948284\n",
       "9 -0.858529  1.464299  0.451191 -2.512439 -0.997208"
      ]
     },
     "execution_count": 84,
     "metadata": {},
     "output_type": "execute_result"
    }
   ],
   "source": [
    "de=pd.DataFrame(np.random.randn(10,5),columns=[\"A\",\"B\",\"C\",\"D\",\"E\"])\n",
    "de"
   ]
  },
  {
   "cell_type": "code",
   "execution_count": null,
   "id": "60fc9899",
   "metadata": {},
   "outputs": [
    {
     "data": {
      "text/plain": [
       "<Axes: >"
      ]
     },
     "execution_count": 86,
     "metadata": {},
     "output_type": "execute_result"
    },
    {
     "data": {
      "image/png": "[encoded data removed]",
      "text/plain": [
       "<Figure size 640x480 with 1 Axes>"
      ]
     },
     "metadata": {},
     "output_type": "display_data"
    }
   ],
   "source": [
    "de.plot.barh(stacked=True)"
   ]
  },
  {
   "cell_type": "code",
   "execution_count": null,
   "id": "21d57aee",
   "metadata": {},
   "outputs": [
    {
     "name": "stdout",
     "output_type": "stream",
     "text": [
      "Collecting psycopg\n",
      "  Downloading psycopg-3.2.9-py3-none-any.whl.metadata (4.5 kB)\n",
      "Requirement already satisfied: typing-extensions>=4.6 in e:\\dtatrn\\vinv\\lib\\site-packages (from psycopg) (4.13.2)\n",
      "Requirement already satisfied: tzdata in e:\\dtatrn\\vinv\\lib\\site-packages (from psycopg) (2025.2)\n",
      "Downloading psycopg-3.2.9-py3-none-any.whl (202 kB)\n",
      "Installing collected packages: psycopg\n",
      "Successfully installed psycopg-3.2.9\n"
     ]
    }
   ],
   "source": [
    "!pip install psycopg"
   ]
  },
  {
   "cell_type": "code",
   "execution_count": 17,
   "id": "9c114df9",
   "metadata": {},
   "outputs": [
    {
     "name": "stdout",
     "output_type": "stream",
     "text": [
      "Connected to PostgreSQL!\n"
     ]
    }
   ],
   "source": [
    "import psycopg\n",
    "\n",
    "# Connect to PostgreSQL\n",
    "con = psycopg.connect(\n",
    "    host=\"localhost\",\n",
    "    port=\"5432\",\n",
    "    user=\"postgres\",\n",
    "    password=\"Shaan@1234\",\n",
    "    dbname=\"Udemy\"\n",
    ")\n",
    "\n",
    "print(\"Connected to PostgreSQL!\")\n"
   ]
  },
  {
   "cell_type": "code",
   "execution_count": 20,
   "id": "25ff4644",
   "metadata": {},
   "outputs": [
    {
     "name": "stderr",
     "output_type": "stream",
     "text": [
      "C:\\Users\\Sayaan\\AppData\\Local\\Temp\\ipykernel_32296\\72656548.py:2: UserWarning: pandas only supports SQLAlchemy connectable (engine/connection) or database string URI or sqlite3 DBAPI2 connection. Other DBAPI2 objects are not tested. Please consider using SQLAlchemy.\n",
      "  df=pd.read_sql_query(\"select * from employees\",con)\n"
     ]
    },
    {
     "data": {
      "text/html": [
       "<div>\n",
       "<style scoped>\n",
       "    .dataframe tbody tr th:only-of-type {\n",
       "        vertical-align: middle;\n",
       "    }\n",
       "\n",
       "    .dataframe tbody tr th {\n",
       "        vertical-align: top;\n",
       "    }\n",
       "\n",
       "    .dataframe thead th {\n",
       "        text-align: right;\n",
       "    }\n",
       "</style>\n",
       "<table border=\"1\" class=\"dataframe\">\n",
       "  <thead>\n",
       "    <tr style=\"text-align: right;\">\n",
       "      <th></th>\n",
       "      <th>employee_id</th>\n",
       "      <th>first_name</th>\n",
       "      <th>last_name</th>\n",
       "      <th>email</th>\n",
       "      <th>hire_date</th>\n",
       "      <th>department</th>\n",
       "      <th>gender</th>\n",
       "      <th>salary</th>\n",
       "      <th>region_id</th>\n",
       "    </tr>\n",
       "  </thead>\n",
       "  <tbody>\n",
       "    <tr>\n",
       "      <th>0</th>\n",
       "      <td>1</td>\n",
       "      <td>Berrie</td>\n",
       "      <td>Manueau</td>\n",
       "      <td>bmanueau0@dion.ne.jp</td>\n",
       "      <td>2006-04-20</td>\n",
       "      <td>Sports</td>\n",
       "      <td>F</td>\n",
       "      <td>154864</td>\n",
       "      <td>4</td>\n",
       "    </tr>\n",
       "    <tr>\n",
       "      <th>1</th>\n",
       "      <td>2</td>\n",
       "      <td>Aeriell</td>\n",
       "      <td>McNee</td>\n",
       "      <td>amcnee1@google.es</td>\n",
       "      <td>2009-01-26</td>\n",
       "      <td>Tools</td>\n",
       "      <td>F</td>\n",
       "      <td>56752</td>\n",
       "      <td>3</td>\n",
       "    </tr>\n",
       "    <tr>\n",
       "      <th>2</th>\n",
       "      <td>3</td>\n",
       "      <td>Sydney</td>\n",
       "      <td>Symonds</td>\n",
       "      <td>ssymonds2@hhs.gov</td>\n",
       "      <td>2010-05-17</td>\n",
       "      <td>Clothing</td>\n",
       "      <td>F</td>\n",
       "      <td>95313</td>\n",
       "      <td>4</td>\n",
       "    </tr>\n",
       "    <tr>\n",
       "      <th>3</th>\n",
       "      <td>4</td>\n",
       "      <td>Avrom</td>\n",
       "      <td>Rowantree</td>\n",
       "      <td>None</td>\n",
       "      <td>2014-08-02</td>\n",
       "      <td>Phones &amp; Tablets</td>\n",
       "      <td>M</td>\n",
       "      <td>119674</td>\n",
       "      <td>7</td>\n",
       "    </tr>\n",
       "    <tr>\n",
       "      <th>4</th>\n",
       "      <td>5</td>\n",
       "      <td>Feliks</td>\n",
       "      <td>Morffew</td>\n",
       "      <td>fmorffew4@a8.net</td>\n",
       "      <td>2003-01-14</td>\n",
       "      <td>Computers</td>\n",
       "      <td>M</td>\n",
       "      <td>55307</td>\n",
       "      <td>5</td>\n",
       "    </tr>\n",
       "    <tr>\n",
       "      <th>...</th>\n",
       "      <td>...</td>\n",
       "      <td>...</td>\n",
       "      <td>...</td>\n",
       "      <td>...</td>\n",
       "      <td>...</td>\n",
       "      <td>...</td>\n",
       "      <td>...</td>\n",
       "      <td>...</td>\n",
       "      <td>...</td>\n",
       "    </tr>\n",
       "    <tr>\n",
       "      <th>995</th>\n",
       "      <td>996</td>\n",
       "      <td>Gardiner</td>\n",
       "      <td>Aron</td>\n",
       "      <td>garonrn@java.com</td>\n",
       "      <td>2015-11-29</td>\n",
       "      <td>Garden</td>\n",
       "      <td>M</td>\n",
       "      <td>111859</td>\n",
       "      <td>1</td>\n",
       "    </tr>\n",
       "    <tr>\n",
       "      <th>996</th>\n",
       "      <td>997</td>\n",
       "      <td>Rhianna</td>\n",
       "      <td>Trynor</td>\n",
       "      <td>rtrynorro@uiuc.edu</td>\n",
       "      <td>2005-04-07</td>\n",
       "      <td>Beauty</td>\n",
       "      <td>F</td>\n",
       "      <td>120753</td>\n",
       "      <td>7</td>\n",
       "    </tr>\n",
       "    <tr>\n",
       "      <th>997</th>\n",
       "      <td>998</td>\n",
       "      <td>Brandice</td>\n",
       "      <td>Gillicuddy</td>\n",
       "      <td>bgillicuddyrp@adobe.com</td>\n",
       "      <td>2014-11-30</td>\n",
       "      <td>Phones &amp; Tablets</td>\n",
       "      <td>F</td>\n",
       "      <td>134058</td>\n",
       "      <td>2</td>\n",
       "    </tr>\n",
       "    <tr>\n",
       "      <th>998</th>\n",
       "      <td>999</td>\n",
       "      <td>Kingston</td>\n",
       "      <td>Piwall</td>\n",
       "      <td>kpiwallrq@nyu.edu</td>\n",
       "      <td>2012-07-07</td>\n",
       "      <td>Music</td>\n",
       "      <td>M</td>\n",
       "      <td>45679</td>\n",
       "      <td>7</td>\n",
       "    </tr>\n",
       "    <tr>\n",
       "      <th>999</th>\n",
       "      <td>1000</td>\n",
       "      <td>Jacquelin</td>\n",
       "      <td>Cassam</td>\n",
       "      <td>jcassamrr@cam.ac.uk</td>\n",
       "      <td>2010-01-27</td>\n",
       "      <td>Music</td>\n",
       "      <td>F</td>\n",
       "      <td>28726</td>\n",
       "      <td>2</td>\n",
       "    </tr>\n",
       "  </tbody>\n",
       "</table>\n",
       "<p>1000 rows × 9 columns</p>\n",
       "</div>"
      ],
      "text/plain": [
       "     employee_id first_name   last_name                    email   hire_date  \\\n",
       "0              1     Berrie     Manueau     bmanueau0@dion.ne.jp  2006-04-20   \n",
       "1              2    Aeriell       McNee        amcnee1@google.es  2009-01-26   \n",
       "2              3     Sydney     Symonds        ssymonds2@hhs.gov  2010-05-17   \n",
       "3              4      Avrom   Rowantree                     None  2014-08-02   \n",
       "4              5     Feliks     Morffew         fmorffew4@a8.net  2003-01-14   \n",
       "..           ...        ...         ...                      ...         ...   \n",
       "995          996   Gardiner        Aron         garonrn@java.com  2015-11-29   \n",
       "996          997    Rhianna      Trynor       rtrynorro@uiuc.edu  2005-04-07   \n",
       "997          998   Brandice  Gillicuddy  bgillicuddyrp@adobe.com  2014-11-30   \n",
       "998          999   Kingston      Piwall        kpiwallrq@nyu.edu  2012-07-07   \n",
       "999         1000  Jacquelin      Cassam      jcassamrr@cam.ac.uk  2010-01-27   \n",
       "\n",
       "           department gender  salary  region_id  \n",
       "0              Sports      F  154864          4  \n",
       "1               Tools      F   56752          3  \n",
       "2            Clothing      F   95313          4  \n",
       "3    Phones & Tablets      M  119674          7  \n",
       "4           Computers      M   55307          5  \n",
       "..                ...    ...     ...        ...  \n",
       "995            Garden      M  111859          1  \n",
       "996            Beauty      F  120753          7  \n",
       "997  Phones & Tablets      F  134058          2  \n",
       "998             Music      M   45679          7  \n",
       "999             Music      F   28726          2  \n",
       "\n",
       "[1000 rows x 9 columns]"
      ]
     },
     "execution_count": 20,
     "metadata": {},
     "output_type": "execute_result"
    }
   ],
   "source": [
    "import pandas as pd\n",
    "df=pd.read_sql_query(\"select * from employees\",con)\n",
    "df"
   ]
  },
  {
   "cell_type": "code",
   "execution_count": null,
   "id": "daf0043b",
   "metadata": {},
   "outputs": [
    {
     "data": {
      "text/html": [
       "<div>\n",
       "<style scoped>\n",
       "    .dataframe tbody tr th:only-of-type {\n",
       "        vertical-align: middle;\n",
       "    }\n",
       "\n",
       "    .dataframe tbody tr th {\n",
       "        vertical-align: top;\n",
       "    }\n",
       "\n",
       "    .dataframe thead th {\n",
       "        text-align: right;\n",
       "    }\n",
       "</style>\n",
       "<table border=\"1\" class=\"dataframe\">\n",
       "  <thead>\n",
       "    <tr style=\"text-align: right;\">\n",
       "      <th></th>\n",
       "      <th>employee_id</th>\n",
       "      <th>first_name</th>\n",
       "      <th>last_name</th>\n",
       "      <th>email</th>\n",
       "      <th>hire_date</th>\n",
       "      <th>department</th>\n",
       "      <th>gender</th>\n",
       "      <th>salary</th>\n",
       "      <th>region_id</th>\n",
       "    </tr>\n",
       "  </thead>\n",
       "  <tbody>\n",
       "    <tr>\n",
       "      <th>0</th>\n",
       "      <td>1</td>\n",
       "      <td>Berrie</td>\n",
       "      <td>Manueau</td>\n",
       "      <td>bmanueau0@dion.ne.jp</td>\n",
       "      <td>2006-04-20</td>\n",
       "      <td>Sports</td>\n",
       "      <td>F</td>\n",
       "      <td>154864</td>\n",
       "      <td>4</td>\n",
       "    </tr>\n",
       "    <tr>\n",
       "      <th>1</th>\n",
       "      <td>2</td>\n",
       "      <td>Aeriell</td>\n",
       "      <td>McNee</td>\n",
       "      <td>amcnee1@google.es</td>\n",
       "      <td>2009-01-26</td>\n",
       "      <td>Tools</td>\n",
       "      <td>F</td>\n",
       "      <td>56752</td>\n",
       "      <td>3</td>\n",
       "    </tr>\n",
       "    <tr>\n",
       "      <th>2</th>\n",
       "      <td>3</td>\n",
       "      <td>Sydney</td>\n",
       "      <td>Symonds</td>\n",
       "      <td>ssymonds2@hhs.gov</td>\n",
       "      <td>2010-05-17</td>\n",
       "      <td>Clothing</td>\n",
       "      <td>F</td>\n",
       "      <td>95313</td>\n",
       "      <td>4</td>\n",
       "    </tr>\n",
       "    <tr>\n",
       "      <th>3</th>\n",
       "      <td>4</td>\n",
       "      <td>Avrom</td>\n",
       "      <td>Rowantree</td>\n",
       "      <td>None</td>\n",
       "      <td>2014-08-02</td>\n",
       "      <td>Phones &amp; Tablets</td>\n",
       "      <td>M</td>\n",
       "      <td>119674</td>\n",
       "      <td>7</td>\n",
       "    </tr>\n",
       "    <tr>\n",
       "      <th>4</th>\n",
       "      <td>5</td>\n",
       "      <td>Feliks</td>\n",
       "      <td>Morffew</td>\n",
       "      <td>fmorffew4@a8.net</td>\n",
       "      <td>2003-01-14</td>\n",
       "      <td>Computers</td>\n",
       "      <td>M</td>\n",
       "      <td>55307</td>\n",
       "      <td>5</td>\n",
       "    </tr>\n",
       "    <tr>\n",
       "      <th>5</th>\n",
       "      <td>6</td>\n",
       "      <td>Bethena</td>\n",
       "      <td>Trow</td>\n",
       "      <td>btrow5@technorati.com</td>\n",
       "      <td>2003-06-08</td>\n",
       "      <td>Sports</td>\n",
       "      <td>F</td>\n",
       "      <td>134501</td>\n",
       "      <td>3</td>\n",
       "    </tr>\n",
       "    <tr>\n",
       "      <th>6</th>\n",
       "      <td>7</td>\n",
       "      <td>Ardeen</td>\n",
       "      <td>Curwood</td>\n",
       "      <td>acurwood6@1und1.de</td>\n",
       "      <td>2006-02-19</td>\n",
       "      <td>Clothing</td>\n",
       "      <td>F</td>\n",
       "      <td>28995</td>\n",
       "      <td>7</td>\n",
       "    </tr>\n",
       "    <tr>\n",
       "      <th>7</th>\n",
       "      <td>8</td>\n",
       "      <td>Seline</td>\n",
       "      <td>Dubber</td>\n",
       "      <td>sdubber7@t-online.de</td>\n",
       "      <td>2012-05-28</td>\n",
       "      <td>Phones &amp; Tablets</td>\n",
       "      <td>F</td>\n",
       "      <td>101066</td>\n",
       "      <td>3</td>\n",
       "    </tr>\n",
       "    <tr>\n",
       "      <th>8</th>\n",
       "      <td>9</td>\n",
       "      <td>Dayle</td>\n",
       "      <td>Trail</td>\n",
       "      <td>dtrail8@tamu.edu</td>\n",
       "      <td>2003-03-01</td>\n",
       "      <td>First Aid</td>\n",
       "      <td>F</td>\n",
       "      <td>82753</td>\n",
       "      <td>1</td>\n",
       "    </tr>\n",
       "    <tr>\n",
       "      <th>9</th>\n",
       "      <td>10</td>\n",
       "      <td>Redford</td>\n",
       "      <td>Roberti</td>\n",
       "      <td>None</td>\n",
       "      <td>2008-07-21</td>\n",
       "      <td>Clothing</td>\n",
       "      <td>M</td>\n",
       "      <td>72225</td>\n",
       "      <td>7</td>\n",
       "    </tr>\n",
       "  </tbody>\n",
       "</table>\n",
       "</div>"
      ],
      "text/plain": [
       "   employee_id first_name  last_name  ... gender  salary region_id\n",
       "0            1     Berrie    Manueau  ...      F  154864         4\n",
       "1            2    Aeriell      McNee  ...      F   56752         3\n",
       "2            3     Sydney    Symonds  ...      F   95313         4\n",
       "3            4      Avrom  Rowantree  ...      M  119674         7\n",
       "4            5     Feliks    Morffew  ...      M   55307         5\n",
       "5            6    Bethena       Trow  ...      F  134501         3\n",
       "6            7     Ardeen    Curwood  ...      F   28995         7\n",
       "7            8     Seline     Dubber  ...      F  101066         3\n",
       "8            9      Dayle      Trail  ...      F   82753         1\n",
       "9           10    Redford    Roberti  ...      M   72225         7\n",
       "\n",
       "[10 rows x 9 columns]"
      ]
     },
     "execution_count": 98,
     "metadata": {},
     "output_type": "execute_result"
    }
   ],
   "source": [
    "df.head(10)"
   ]
  },
  {
   "cell_type": "code",
   "execution_count": null,
   "id": "6f53814b",
   "metadata": {},
   "outputs": [
    {
     "data": {
      "text/plain": [
       "email\n",
       "False    796\n",
       "True     204\n",
       "Name: count, dtype: int64"
      ]
     },
     "execution_count": 105,
     "metadata": {},
     "output_type": "execute_result"
    }
   ],
   "source": [
    "df['email'].isna().value_counts()\n"
   ]
  },
  {
   "cell_type": "markdown",
   "id": "3e0ca1b2",
   "metadata": {},
   "source": [
    "# Hence from the above out of 996 entries emails of 206 entries are not valid "
   ]
  },
  {
   "cell_type": "code",
   "execution_count": null,
   "id": "69ceb024",
   "metadata": {},
   "outputs": [
    {
     "data": {
      "text/html": [
       "<div>\n",
       "<style scoped>\n",
       "    .dataframe tbody tr th:only-of-type {\n",
       "        vertical-align: middle;\n",
       "    }\n",
       "\n",
       "    .dataframe tbody tr th {\n",
       "        vertical-align: top;\n",
       "    }\n",
       "\n",
       "    .dataframe thead th {\n",
       "        text-align: right;\n",
       "    }\n",
       "</style>\n",
       "<table border=\"1\" class=\"dataframe\">\n",
       "  <thead>\n",
       "    <tr style=\"text-align: right;\">\n",
       "      <th></th>\n",
       "      <th>employee_id</th>\n",
       "      <th>salary</th>\n",
       "      <th>region_id</th>\n",
       "    </tr>\n",
       "  </thead>\n",
       "  <tbody>\n",
       "    <tr>\n",
       "      <th>count</th>\n",
       "      <td>1000.000000</td>\n",
       "      <td>1000.000000</td>\n",
       "      <td>1000.000000</td>\n",
       "    </tr>\n",
       "    <tr>\n",
       "      <th>mean</th>\n",
       "      <td>500.500000</td>\n",
       "      <td>91571.594000</td>\n",
       "      <td>3.992000</td>\n",
       "    </tr>\n",
       "    <tr>\n",
       "      <th>std</th>\n",
       "      <td>288.819436</td>\n",
       "      <td>42028.902067</td>\n",
       "      <td>2.039631</td>\n",
       "    </tr>\n",
       "    <tr>\n",
       "      <th>min</th>\n",
       "      <td>1.000000</td>\n",
       "      <td>20542.000000</td>\n",
       "      <td>1.000000</td>\n",
       "    </tr>\n",
       "    <tr>\n",
       "      <th>25%</th>\n",
       "      <td>250.750000</td>\n",
       "      <td>55292.250000</td>\n",
       "      <td>2.000000</td>\n",
       "    </tr>\n",
       "    <tr>\n",
       "      <th>50%</th>\n",
       "      <td>500.500000</td>\n",
       "      <td>89686.500000</td>\n",
       "      <td>4.000000</td>\n",
       "    </tr>\n",
       "    <tr>\n",
       "      <th>75%</th>\n",
       "      <td>750.250000</td>\n",
       "      <td>126997.750000</td>\n",
       "      <td>6.000000</td>\n",
       "    </tr>\n",
       "    <tr>\n",
       "      <th>max</th>\n",
       "      <td>1000.000000</td>\n",
       "      <td>166976.000000</td>\n",
       "      <td>7.000000</td>\n",
       "    </tr>\n",
       "  </tbody>\n",
       "</table>\n",
       "</div>"
      ],
      "text/plain": [
       "       employee_id         salary    region_id\n",
       "count  1000.000000    1000.000000  1000.000000\n",
       "mean    500.500000   91571.594000     3.992000\n",
       "std     288.819436   42028.902067     2.039631\n",
       "min       1.000000   20542.000000     1.000000\n",
       "25%     250.750000   55292.250000     2.000000\n",
       "50%     500.500000   89686.500000     4.000000\n",
       "75%     750.250000  126997.750000     6.000000\n",
       "max    1000.000000  166976.000000     7.000000"
      ]
     },
     "execution_count": 106,
     "metadata": {},
     "output_type": "execute_result"
    }
   ],
   "source": [
    "df.describe()"
   ]
  },
  {
   "cell_type": "code",
   "execution_count": null,
   "id": "fe70f67b",
   "metadata": {},
   "outputs": [
    {
     "data": {
      "text/plain": [
       "gender\n",
       "F    501\n",
       "M    499\n",
       "Name: count, dtype: int64"
      ]
     },
     "execution_count": 107,
     "metadata": {},
     "output_type": "execute_result"
    }
   ],
   "source": [
    "df['gender'].value_counts()"
   ]
  },
  {
   "cell_type": "code",
   "execution_count": null,
   "id": "7fc5e1d3",
   "metadata": {},
   "outputs": [
    {
     "data": {
      "text/plain": [
       "<seaborn.axisgrid.JointGrid at 0x23d184e4bf0>"
      ]
     },
     "execution_count": 113,
     "metadata": {},
     "output_type": "execute_result"
    },
    {
     "data": {
      "image/png": "[encoded data removed]",
      "text/plain": [
       "<Figure size 600x600 with 3 Axes>"
      ]
     },
     "metadata": {},
     "output_type": "display_data"
    }
   ],
   "source": [
    "sns.jointplot(df['salary'],kind='kde')"
   ]
  },
  {
   "cell_type": "code",
   "execution_count": null,
   "id": "e5cc2ce3",
   "metadata": {},
   "outputs": [
    {
     "data": {
      "text/plain": [
       "[10, 5, 8, 20]"
      ]
     },
     "execution_count": 2,
     "metadata": {},
     "output_type": "execute_result"
    }
   ],
   "source": [
    "arr=[10,5,8,20]\n",
    "def function1(arr):\n",
    "    set(arr)\n",
    "    return arr\n",
    "function1(arr)"
   ]
  },
  {
   "cell_type": "code",
   "execution_count": null,
   "id": "19292434",
   "metadata": {},
   "outputs": [
    {
     "name": "stdout",
     "output_type": "stream",
     "text": [
      "Initialised the data\n",
      "The data is Name = Virat Kohli age= 46 runs = 66450  and highest score= 124 \n"
     ]
    }
   ],
   "source": [
    "class cricketer:\n",
    "    def __init__(self,name,age,runs,highest_score):\n",
    "        print(\"Initialised the data\")\n",
    "        self.name=name\n",
    "        self.age=age\n",
    "        self.runs=runs\n",
    "        self.highest_score=highest_score\n",
    "    def getdata(self,name,age,runs,highest_score):\n",
    "        print(\"Gettingn the data\")\n",
    "        self.name=name\n",
    "        self.age=age\n",
    "        self.runs=runs\n",
    "        self.highest_score=highest_score\n",
    "    def displaydata(self):\n",
    "        print(f\"The data is Name = {self.name} age= {self.age} runs = {self.runs}  and highest score= {self.highest_score} \")\n",
    "\n",
    "def main():\n",
    "    c=cricketer(\"Virat Kohli\",46,66450,124)\n",
    "    c.displaydata()\n",
    "if __name__==\"__main__\":\n",
    "    main()"
   ]
  },
  {
   "cell_type": "code",
   "execution_count": 21,
   "id": "6213211c",
   "metadata": {},
   "outputs": [
    {
     "data": {
      "text/html": [
       "<div>\n",
       "<style scoped>\n",
       "    .dataframe tbody tr th:only-of-type {\n",
       "        vertical-align: middle;\n",
       "    }\n",
       "\n",
       "    .dataframe tbody tr th {\n",
       "        vertical-align: top;\n",
       "    }\n",
       "\n",
       "    .dataframe thead th {\n",
       "        text-align: right;\n",
       "    }\n",
       "</style>\n",
       "<table border=\"1\" class=\"dataframe\">\n",
       "  <thead>\n",
       "    <tr style=\"text-align: right;\">\n",
       "      <th></th>\n",
       "      <th>employee_id</th>\n",
       "      <th>first_name</th>\n",
       "      <th>last_name</th>\n",
       "      <th>email</th>\n",
       "      <th>hire_date</th>\n",
       "      <th>department</th>\n",
       "      <th>gender</th>\n",
       "      <th>salary</th>\n",
       "      <th>region_id</th>\n",
       "    </tr>\n",
       "  </thead>\n",
       "  <tbody>\n",
       "    <tr>\n",
       "      <th>0</th>\n",
       "      <td>1</td>\n",
       "      <td>Berrie</td>\n",
       "      <td>Manueau</td>\n",
       "      <td>bmanueau0@dion.ne.jp</td>\n",
       "      <td>2006-04-20</td>\n",
       "      <td>Sports</td>\n",
       "      <td>F</td>\n",
       "      <td>154864</td>\n",
       "      <td>4</td>\n",
       "    </tr>\n",
       "    <tr>\n",
       "      <th>1</th>\n",
       "      <td>2</td>\n",
       "      <td>Aeriell</td>\n",
       "      <td>McNee</td>\n",
       "      <td>amcnee1@google.es</td>\n",
       "      <td>2009-01-26</td>\n",
       "      <td>Tools</td>\n",
       "      <td>F</td>\n",
       "      <td>56752</td>\n",
       "      <td>3</td>\n",
       "    </tr>\n",
       "    <tr>\n",
       "      <th>2</th>\n",
       "      <td>3</td>\n",
       "      <td>Sydney</td>\n",
       "      <td>Symonds</td>\n",
       "      <td>ssymonds2@hhs.gov</td>\n",
       "      <td>2010-05-17</td>\n",
       "      <td>Clothing</td>\n",
       "      <td>F</td>\n",
       "      <td>95313</td>\n",
       "      <td>4</td>\n",
       "    </tr>\n",
       "    <tr>\n",
       "      <th>3</th>\n",
       "      <td>4</td>\n",
       "      <td>Avrom</td>\n",
       "      <td>Rowantree</td>\n",
       "      <td>None</td>\n",
       "      <td>2014-08-02</td>\n",
       "      <td>Phones &amp; Tablets</td>\n",
       "      <td>M</td>\n",
       "      <td>119674</td>\n",
       "      <td>7</td>\n",
       "    </tr>\n",
       "    <tr>\n",
       "      <th>4</th>\n",
       "      <td>5</td>\n",
       "      <td>Feliks</td>\n",
       "      <td>Morffew</td>\n",
       "      <td>fmorffew4@a8.net</td>\n",
       "      <td>2003-01-14</td>\n",
       "      <td>Computers</td>\n",
       "      <td>M</td>\n",
       "      <td>55307</td>\n",
       "      <td>5</td>\n",
       "    </tr>\n",
       "    <tr>\n",
       "      <th>...</th>\n",
       "      <td>...</td>\n",
       "      <td>...</td>\n",
       "      <td>...</td>\n",
       "      <td>...</td>\n",
       "      <td>...</td>\n",
       "      <td>...</td>\n",
       "      <td>...</td>\n",
       "      <td>...</td>\n",
       "      <td>...</td>\n",
       "    </tr>\n",
       "    <tr>\n",
       "      <th>995</th>\n",
       "      <td>996</td>\n",
       "      <td>Gardiner</td>\n",
       "      <td>Aron</td>\n",
       "      <td>garonrn@java.com</td>\n",
       "      <td>2015-11-29</td>\n",
       "      <td>Garden</td>\n",
       "      <td>M</td>\n",
       "      <td>111859</td>\n",
       "      <td>1</td>\n",
       "    </tr>\n",
       "    <tr>\n",
       "      <th>996</th>\n",
       "      <td>997</td>\n",
       "      <td>Rhianna</td>\n",
       "      <td>Trynor</td>\n",
       "      <td>rtrynorro@uiuc.edu</td>\n",
       "      <td>2005-04-07</td>\n",
       "      <td>Beauty</td>\n",
       "      <td>F</td>\n",
       "      <td>120753</td>\n",
       "      <td>7</td>\n",
       "    </tr>\n",
       "    <tr>\n",
       "      <th>997</th>\n",
       "      <td>998</td>\n",
       "      <td>Brandice</td>\n",
       "      <td>Gillicuddy</td>\n",
       "      <td>bgillicuddyrp@adobe.com</td>\n",
       "      <td>2014-11-30</td>\n",
       "      <td>Phones &amp; Tablets</td>\n",
       "      <td>F</td>\n",
       "      <td>134058</td>\n",
       "      <td>2</td>\n",
       "    </tr>\n",
       "    <tr>\n",
       "      <th>998</th>\n",
       "      <td>999</td>\n",
       "      <td>Kingston</td>\n",
       "      <td>Piwall</td>\n",
       "      <td>kpiwallrq@nyu.edu</td>\n",
       "      <td>2012-07-07</td>\n",
       "      <td>Music</td>\n",
       "      <td>M</td>\n",
       "      <td>45679</td>\n",
       "      <td>7</td>\n",
       "    </tr>\n",
       "    <tr>\n",
       "      <th>999</th>\n",
       "      <td>1000</td>\n",
       "      <td>Jacquelin</td>\n",
       "      <td>Cassam</td>\n",
       "      <td>jcassamrr@cam.ac.uk</td>\n",
       "      <td>2010-01-27</td>\n",
       "      <td>Music</td>\n",
       "      <td>F</td>\n",
       "      <td>28726</td>\n",
       "      <td>2</td>\n",
       "    </tr>\n",
       "  </tbody>\n",
       "</table>\n",
       "<p>1000 rows × 9 columns</p>\n",
       "</div>"
      ],
      "text/plain": [
       "     employee_id first_name   last_name                    email   hire_date  \\\n",
       "0              1     Berrie     Manueau     bmanueau0@dion.ne.jp  2006-04-20   \n",
       "1              2    Aeriell       McNee        amcnee1@google.es  2009-01-26   \n",
       "2              3     Sydney     Symonds        ssymonds2@hhs.gov  2010-05-17   \n",
       "3              4      Avrom   Rowantree                     None  2014-08-02   \n",
       "4              5     Feliks     Morffew         fmorffew4@a8.net  2003-01-14   \n",
       "..           ...        ...         ...                      ...         ...   \n",
       "995          996   Gardiner        Aron         garonrn@java.com  2015-11-29   \n",
       "996          997    Rhianna      Trynor       rtrynorro@uiuc.edu  2005-04-07   \n",
       "997          998   Brandice  Gillicuddy  bgillicuddyrp@adobe.com  2014-11-30   \n",
       "998          999   Kingston      Piwall        kpiwallrq@nyu.edu  2012-07-07   \n",
       "999         1000  Jacquelin      Cassam      jcassamrr@cam.ac.uk  2010-01-27   \n",
       "\n",
       "           department gender  salary  region_id  \n",
       "0              Sports      F  154864          4  \n",
       "1               Tools      F   56752          3  \n",
       "2            Clothing      F   95313          4  \n",
       "3    Phones & Tablets      M  119674          7  \n",
       "4           Computers      M   55307          5  \n",
       "..                ...    ...     ...        ...  \n",
       "995            Garden      M  111859          1  \n",
       "996            Beauty      F  120753          7  \n",
       "997  Phones & Tablets      F  134058          2  \n",
       "998             Music      M   45679          7  \n",
       "999             Music      F   28726          2  \n",
       "\n",
       "[1000 rows x 9 columns]"
      ]
     },
     "execution_count": 21,
     "metadata": {},
     "output_type": "execute_result"
    }
   ],
   "source": [
    "df"
   ]
  },
  {
   "cell_type": "code",
   "execution_count": null,
   "id": "789cf190",
   "metadata": {},
   "outputs": [],
   "source": []
  }
 ],
 "metadata": {
  "kernelspec": {
   "display_name": "Python 3",
   "language": "python",
   "name": "python3"
  },
  "language_info": {
   "codemirror_mode": {
    "name": "ipython",
    "version": 3
   },
   "file_extension": ".py",
   "mimetype": "text/x-python",
   "name": "python",
   "nbconvert_exporter": "python",
   "pygments_lexer": "ipython3",
   "version": "3.12.0"
  }
 },
 "nbformat": 4,
 "nbformat_minor": 5
}
