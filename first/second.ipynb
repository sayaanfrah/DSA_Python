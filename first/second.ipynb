{
 "cells": [
  {
   "cell_type": "code",
   "execution_count": 1,
   "id": "37c6e764",
   "metadata": {},
   "outputs": [
    {
     "name": "stdout",
     "output_type": "stream",
     "text": [
      "This is an empty list \t []\n",
      "This is a character list\t ['A', 'b', 'C', 'D', 'E', 'F']\n",
      "This is a string list \t ['Apple', 'Banana', 'CocoMelon', 'DragonFruit', 'Eggplant', 'Fig']\n",
      "This is a number list \t [1, 2, 3, 4, 5, 6, 7, 8, 9, 10]\n",
      "This is a mixed list \t ['Apple', 'oranges', 23423, 34534.435, True, 'A']\n",
      "We are going to Learn more about list Manupulation in python\n"
     ]
    }
   ],
   "source": [
    "#learing about the list in python\n",
    "l1=[] #empty list\n",
    "l2=[\"A\",\"b\",\"C\",\"D\",\"E\",\"F\"]\n",
    "l3=[\"Apple\",\"Banana\",\"CocoMelon\",\"DragonFruit\",\"Eggplant\",\"Fig\"]\n",
    "l4=[1,2,3,4,5,6,7,8,9,10]\n",
    "l5=[\"Apple\",\"oranges\",23423,34534.435,True,\"A\"]\n",
    "print(f\"This is an empty list \\t {l1}\")\n",
    "print(f\"This is a character list\\t {l2}\")\n",
    "print(f\"This is a string list \\t {l3}\")\n",
    "print(f\"This is a number list \\t {l4}\")\n",
    "print(f\"This is a mixed list \\t {l5}\")\n",
    "print(f\"We are going to Learn more about list Manupulation in python\")"
   ]
  },
  {
   "cell_type": "code",
   "execution_count": 4,
   "id": "49c7a62a",
   "metadata": {},
   "outputs": [
    {
     "name": "stdout",
     "output_type": "stream",
     "text": [
      "Hello \t Sayaan \t nice to meet you\n"
     ]
    }
   ],
   "source": [
    "#now we will learn about the user inout function in python\n",
    "name=str(input(\"enter your name\"))\n",
    "greetings =\"nice to meet you\"\n",
    "print(f\"Hello \\t {name} \\t {greetings}\")\n"
   ]
  },
  {
   "cell_type": "code",
   "execution_count": 7,
   "id": "c493ead9",
   "metadata": {},
   "outputs": [
    {
     "name": "stdout",
     "output_type": "stream",
     "text": [
      "Print the area of circle\n",
      "Area of circle  = 202580.24000000002 where radius = 254 and pi =3.14\n"
     ]
    }
   ],
   "source": [
    "print(\"Print the area of circle\")\n",
    "pi=3.14\n",
    "r=int(input(\"enter the value of radius\"))\n",
    "area=pi*r**2\n",
    "print(f\"Area of circle  = {area} where radius = {r} and pi ={pi}\")"
   ]
  },
  {
   "cell_type": "code",
   "execution_count": 12,
   "id": "d6d7a06c",
   "metadata": {},
   "outputs": [
    {
     "name": "stdout",
     "output_type": "stream",
     "text": [
      "Hey\n",
      "Sayaan Frah\n"
     ]
    }
   ],
   "source": [
    "print(\"Heyllo\"[0:3]) #In slicing the index value given at last in exclusive \n",
    "print(\"Sayaan Frah\"[:])\n"
   ]
  },
  {
   "cell_type": "code",
   "execution_count": 13,
   "id": "ed751df1",
   "metadata": {},
   "outputs": [
    {
     "name": "stdout",
     "output_type": "stream",
     "text": [
      "My name is Sayaan\n"
     ]
    }
   ],
   "source": [
    "print(f\"My name is {name}\")"
   ]
  },
  {
   "cell_type": "code",
   "execution_count": 18,
   "id": "e97619be",
   "metadata": {},
   "outputs": [
    {
     "data": {
      "text/plain": [
       "['Mango', 'oranges', 23423, 34534.435, True, 'A']"
      ]
     },
     "execution_count": 18,
     "metadata": {},
     "output_type": "execute_result"
    }
   ],
   "source": [
    "l5[0]=\"Mango\"\n",
    "l5"
   ]
  },
  {
   "cell_type": "code",
   "execution_count": 21,
   "id": "6e020128",
   "metadata": {},
   "outputs": [
    {
     "name": "stdout",
     "output_type": "stream",
     "text": [
      "['Mango', 'oranges', 23423, 34534.435, True, 'A', 'Water Melon', 'Water Melon', 'Water Melon', 'Mango', 'oranges', 23423, 34534.435, True, 'A', 'Water Melon', 'Water Melon', 'Water Melon', 'Mango', 'oranges', 23423, 34534.435, True, 'A', 'Water Melon', 'Water Melon', 'Water Melon', 'Mango', 'oranges', 23423, 34534.435, True, 'A', 'Water Melon', 'Water Melon', 'Water Melon']\n"
     ]
    }
   ],
   "source": [
    "l5.append(\"Water Melon\")\n",
    "print(l5*4)"
   ]
  },
  {
   "cell_type": "code",
   "execution_count": 22,
   "id": "b63e014b",
   "metadata": {},
   "outputs": [
    {
     "name": "stdout",
     "output_type": "stream",
     "text": [
      "['Mango', 'oranges', 23423, 34534.435, True, 'A', 'Water Melon', 'Water Melon', 'Water Melon']\n"
     ]
    }
   ],
   "source": [
    "print(l5)"
   ]
  },
  {
   "cell_type": "code",
   "execution_count": 23,
   "id": "24e5f98c",
   "metadata": {},
   "outputs": [
    {
     "data": {
      "text/plain": [
       "'Water Melon'"
      ]
     },
     "execution_count": 23,
     "metadata": {},
     "output_type": "execute_result"
    }
   ],
   "source": [
    "l5.pop()"
   ]
  },
  {
   "cell_type": "code",
   "execution_count": 24,
   "id": "249a9858",
   "metadata": {},
   "outputs": [
    {
     "data": {
      "text/plain": [
       "'Water Melon'"
      ]
     },
     "execution_count": 24,
     "metadata": {},
     "output_type": "execute_result"
    }
   ],
   "source": [
    "l5.pop()"
   ]
  },
  {
   "cell_type": "code",
   "execution_count": 25,
   "id": "d52f0116",
   "metadata": {},
   "outputs": [
    {
     "data": {
      "text/plain": [
       "['Mango', 'oranges', 23423, 34534.435, True, 'A', 'Water Melon']"
      ]
     },
     "execution_count": 25,
     "metadata": {},
     "output_type": "execute_result"
    }
   ],
   "source": [
    "l5"
   ]
  },
  {
   "cell_type": "code",
   "execution_count": 28,
   "id": "bb212efe",
   "metadata": {},
   "outputs": [],
   "source": [
    "l5.remove(\"Water Melon\")"
   ]
  },
  {
   "cell_type": "code",
   "execution_count": 29,
   "id": "c5c2bf4e",
   "metadata": {},
   "outputs": [
    {
     "data": {
      "text/plain": [
       "['Mango', 'oranges', 23423, 34534.435, True, 'A']"
      ]
     },
     "execution_count": 29,
     "metadata": {},
     "output_type": "execute_result"
    }
   ],
   "source": [
    "l5"
   ]
  },
  {
   "cell_type": "code",
   "execution_count": 35,
   "id": "a6dd68a6",
   "metadata": {},
   "outputs": [
    {
     "name": "stdout",
     "output_type": "stream",
     "text": [
      "['Apple']\n",
      "['Apple', 'Banana']\n",
      "['Apple', 'Banana', 'CocoMelon']\n",
      "['Apple', 'Banana', 'CocoMelon', 'DragonFruit']\n",
      "['Apple', 'Banana', 'CocoMelon', 'DragonFruit', 'Eggplant']\n"
     ]
    }
   ],
   "source": [
    "#now we are going to learn append functions in python\n",
    "l6=[]\n",
    "l6.append(\"Apple\")\n",
    "print(l6)\n",
    "l6.append(\"Banana\")\n",
    "print(l6)\n",
    "l6.append(\"CocoMelon\")\n",
    "print(l6)\n",
    "l6.append(\"DragonFruit\")\n",
    "print(l6)\n",
    "l6.append(\"Eggplant\")\n",
    "print(l6)"
   ]
  },
  {
   "cell_type": "code",
   "execution_count": 36,
   "id": "a8d20b1d",
   "metadata": {},
   "outputs": [
    {
     "data": {
      "text/plain": [
       "['Apple', 'Banana', 'CocoMelon', 'DragonFruit', 'Eggplant']"
      ]
     },
     "execution_count": 36,
     "metadata": {},
     "output_type": "execute_result"
    }
   ],
   "source": [
    "l6"
   ]
  },
  {
   "cell_type": "code",
   "execution_count": 38,
   "id": "46262ae4",
   "metadata": {},
   "outputs": [
    {
     "name": "stdout",
     "output_type": "stream",
     "text": [
      "['Apple', 'Banana', 'CocoMelon', 'DragonFruit', 'Eggplant', 'Fig', 'Fig']\n",
      "['Apple', 'Banana', 'CocoMelon', 'DragonFruit', 'Eggplant', 'Fig', 'Guava', 'Fig']\n",
      "['Apple', 'Banana', 'CocoMelon', 'DragonFruit', 'Eggplant', 'Fig', 'Guava', 'HackBerry', 'Fig']\n",
      "['Apple', 'Banana', 'CocoMelon', 'DragonFruit', 'Eggplant', 'Fig', 'Guava', 'HackBerry', 'Ice_apple', 'Fig']\n"
     ]
    }
   ],
   "source": [
    "#learning about the insert functions in python\n",
    "l6.insert(5,\"Fig\")\n",
    "print(l6)\n",
    "l6.insert(6,\"Guava\")\n",
    "print(l6)\n",
    "l6.insert(7,\"HackBerry\")\n",
    "print(l6)\n",
    "l6.insert(8,'Ice_apple')\n",
    "print(l6)\n"
   ]
  },
  {
   "cell_type": "code",
   "execution_count": 39,
   "id": "17621c63",
   "metadata": {},
   "outputs": [
    {
     "name": "stdout",
     "output_type": "stream",
     "text": [
      "['Apple', 'Banana', 'CocoMelon', 'DragonFruit', 'Eggplant', 'Fig', 'Guava', 'HackBerry', 'Ice_apple', 'Fig']\n"
     ]
    }
   ],
   "source": [
    "print(l6)"
   ]
  },
  {
   "cell_type": "code",
   "execution_count": 40,
   "id": "f810272e",
   "metadata": {},
   "outputs": [],
   "source": [
    "l6.remove(\"Fig\")"
   ]
  },
  {
   "cell_type": "code",
   "execution_count": 41,
   "id": "5a7e8a9a",
   "metadata": {},
   "outputs": [
    {
     "data": {
      "text/plain": [
       "['Apple',\n",
       " 'Banana',\n",
       " 'CocoMelon',\n",
       " 'DragonFruit',\n",
       " 'Eggplant',\n",
       " 'Guava',\n",
       " 'HackBerry',\n",
       " 'Ice_apple',\n",
       " 'Fig']"
      ]
     },
     "execution_count": 41,
     "metadata": {},
     "output_type": "execute_result"
    }
   ],
   "source": [
    "l6"
   ]
  },
  {
   "cell_type": "code",
   "execution_count": 42,
   "id": "a5424aa0",
   "metadata": {},
   "outputs": [],
   "source": [
    "l6.insert(6,\"Fig\")"
   ]
  },
  {
   "cell_type": "code",
   "execution_count": 43,
   "id": "9025e704",
   "metadata": {},
   "outputs": [
    {
     "data": {
      "text/plain": [
       "['Apple',\n",
       " 'Banana',\n",
       " 'CocoMelon',\n",
       " 'DragonFruit',\n",
       " 'Eggplant',\n",
       " 'Guava',\n",
       " 'Fig',\n",
       " 'HackBerry',\n",
       " 'Ice_apple',\n",
       " 'Fig']"
      ]
     },
     "execution_count": 43,
     "metadata": {},
     "output_type": "execute_result"
    }
   ],
   "source": [
    "l6"
   ]
  },
  {
   "cell_type": "code",
   "execution_count": 44,
   "id": "6881ca27",
   "metadata": {},
   "outputs": [
    {
     "data": {
      "text/plain": [
       "'Fig'"
      ]
     },
     "execution_count": 44,
     "metadata": {},
     "output_type": "execute_result"
    }
   ],
   "source": [
    "l6.pop()"
   ]
  },
  {
   "cell_type": "code",
   "execution_count": 47,
   "id": "641c196f",
   "metadata": {},
   "outputs": [
    {
     "name": "stdout",
     "output_type": "stream",
     "text": [
      "['Apple', 'Banana', 'CocoMelon', 'DragonFruit', 'Eggplant', 'Guava', 'Fig', 'HackBerry', 'Ice_apple']\n",
      "['Apple', 'Banana', 'CocoMelon', 'DragonFruit', 'Eggplant', 'Guava', 'Fig']\n"
     ]
    }
   ],
   "source": [
    "l6.reverse()\n",
    "print(l6)\n",
    "print(l6[0:7])"
   ]
  },
  {
   "cell_type": "code",
   "execution_count": 52,
   "id": "96a8bdba",
   "metadata": {},
   "outputs": [
    {
     "name": "stdout",
     "output_type": "stream",
     "text": [
      "Here the value for last digit is 100 and the list is [88, 89, 100]\n",
      " Here the value for last digit is 90 and the list is [88, 89, 90]\n"
     ]
    }
   ],
   "source": [
    "#now we will learn about typecasting in list\n",
    "l3=[88,89,100]\n",
    "print( f\"Here the value for last digit is {l3[2]} and the list is {l3}\")\n",
    "l3[2]=90\n",
    "print(f\" Here the value for last digit is {l3[2]} and the list is {l3}\")"
   ]
  },
  {
   "cell_type": "code",
   "execution_count": null,
   "id": "5ee6fec4",
   "metadata": {},
   "outputs": [],
   "source": []
  }
 ],
 "metadata": {
  "kernelspec": {
   "display_name": "Python 3",
   "language": "python",
   "name": "python3"
  },
  "language_info": {
   "codemirror_mode": {
    "name": "ipython",
    "version": 3
   },
   "file_extension": ".py",
   "mimetype": "text/x-python",
   "name": "python",
   "nbconvert_exporter": "python",
   "pygments_lexer": "ipython3",
   "version": "3.12.0"
  }
 },
 "nbformat": 4,
 "nbformat_minor": 5
}
