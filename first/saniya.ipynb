{
 "cells": [
  {
   "cell_type": "code",
   "execution_count": 1,
   "id": "a6cb4e87",
   "metadata": {},
   "outputs": [],
   "source": [
    "#Working with Operators"
   ]
  },
  {
   "cell_type": "code",
   "execution_count": 2,
   "id": "6fa62f90",
   "metadata": {},
   "outputs": [],
   "source": [
    "#Arithmetic (+ , - , * , / , %{remainder} , **{to the power }, // {floor division} )\n",
    "#Assignment Operators ( = , += , -= , *= , /= , %= , **= , //=)\n",
    "#Comparison Operators (< , > , != , ==, >= , <= )\n",
    "#logical Operatots (and , or , not )\n",
    "#bitwise Operators ( & , | , ^ , ~ ,<< {left shift}, >>{right shift} )"
   ]
  },
  {
   "cell_type": "code",
   "execution_count": 3,
   "id": "a720120b",
   "metadata": {},
   "outputs": [
    {
     "data": {
      "text/plain": [
       "257657"
      ]
     },
     "execution_count": 3,
     "metadata": {},
     "output_type": "execute_result"
    }
   ],
   "source": [
    "234234+23423"
   ]
  },
  {
   "cell_type": "code",
   "execution_count": 4,
   "id": "66c82866",
   "metadata": {},
   "outputs": [
    {
     "data": {
      "text/plain": [
       "21090"
      ]
     },
     "execution_count": 4,
     "metadata": {},
     "output_type": "execute_result"
    }
   ],
   "source": [
    "23432-2342"
   ]
  },
  {
   "cell_type": "code",
   "execution_count": 5,
   "id": "6b29197d",
   "metadata": {},
   "outputs": [
    {
     "data": {
      "text/plain": [
       "7596684677088"
      ]
     },
     "execution_count": 5,
     "metadata": {},
     "output_type": "execute_result"
    }
   ],
   "source": [
    "234234234*32432"
   ]
  },
  {
   "cell_type": "code",
   "execution_count": 6,
   "id": "b559f171",
   "metadata": {},
   "outputs": [
    {
     "data": {
      "text/plain": [
       "3104307401943398225947002752118451297846365869366575104"
      ]
     },
     "execution_count": 6,
     "metadata": {},
     "output_type": "execute_result"
    }
   ],
   "source": [
    "234**23"
   ]
  },
  {
   "cell_type": "code",
   "execution_count": 7,
   "id": "c3567a3b",
   "metadata": {},
   "outputs": [
    {
     "data": {
      "text/plain": [
       "23"
      ]
     },
     "execution_count": 7,
     "metadata": {},
     "output_type": "execute_result"
    }
   ],
   "source": [
    "2423%24"
   ]
  },
  {
   "cell_type": "code",
   "execution_count": 8,
   "id": "101f73ab",
   "metadata": {},
   "outputs": [
    {
     "name": "stdout",
     "output_type": "stream",
     "text": [
      "Hello World\n"
     ]
    }
   ],
   "source": [
    "print(\"Hello World\")"
   ]
  },
  {
   "cell_type": "code",
   "execution_count": 9,
   "id": "dd5a4fc1",
   "metadata": {},
   "outputs": [
    {
     "name": "stdout",
     "output_type": "stream",
     "text": [
      "Shanu Bangat\n"
     ]
    }
   ],
   "source": [
    "print(\"Shanu Bangat\")"
   ]
  },
  {
   "cell_type": "code",
   "execution_count": 10,
   "id": "e76657e1",
   "metadata": {},
   "outputs": [
    {
     "name": "stdout",
     "output_type": "stream",
     "text": [
      "Sayaan Bhaiya\n"
     ]
    }
   ],
   "source": [
    "print(\"Sayaan Bhaiya\")"
   ]
  },
  {
   "cell_type": "code",
   "execution_count": 32,
   "id": "a8741690",
   "metadata": {},
   "outputs": [
    {
     "name": "stdout",
     "output_type": "stream",
     "text": [
      "We are learning to code in python\n"
     ]
    }
   ],
   "source": [
    "print(\"We are learning to code in python\")"
   ]
  },
  {
   "cell_type": "code",
   "execution_count": 13,
   "id": "11208373",
   "metadata": {},
   "outputs": [
    {
     "name": "stdout",
     "output_type": "stream",
     "text": [
      "16675\n"
     ]
    }
   ],
   "source": [
    "print(13243+3432)"
   ]
  },
  {
   "cell_type": "code",
   "execution_count": 14,
   "id": "e65878a8",
   "metadata": {},
   "outputs": [
    {
     "name": "stdout",
     "output_type": "stream",
     "text": [
      "0\n"
     ]
    }
   ],
   "source": [
    "print(234234-234234)"
   ]
  },
  {
   "cell_type": "code",
   "execution_count": 15,
   "id": "3d4fd7d2",
   "metadata": {},
   "outputs": [
    {
     "name": "stdout",
     "output_type": "stream",
     "text": [
      "548028\n"
     ]
    }
   ],
   "source": [
    "print(2342*234)"
   ]
  },
  {
   "cell_type": "code",
   "execution_count": 16,
   "id": "a117234f",
   "metadata": {},
   "outputs": [
    {
     "name": "stdout",
     "output_type": "stream",
     "text": [
      "23328\n"
     ]
    }
   ],
   "source": [
    "print(234234%23434)"
   ]
  },
  {
   "cell_type": "code",
   "execution_count": 17,
   "id": "58752f16",
   "metadata": {},
   "outputs": [
    {
     "name": "stdout",
     "output_type": "stream",
     "text": [
      "1.0\n"
     ]
    }
   ],
   "source": [
    "print(234234/234234)"
   ]
  },
  {
   "cell_type": "code",
   "execution_count": 20,
   "id": "9dea04fb",
   "metadata": {},
   "outputs": [
    {
     "name": "stdout",
     "output_type": "stream",
     "text": [
      "744043689012754852871836595284390491269654769800594711635901246742417513554836963855851173830019707316610463078015654698298638336\n"
     ]
    }
   ],
   "source": [
    "print(234234**24)"
   ]
  },
  {
   "cell_type": "code",
   "execution_count": 21,
   "id": "38cce985",
   "metadata": {},
   "outputs": [
    {
     "name": "stdout",
     "output_type": "stream",
     "text": [
      "100\n"
     ]
    }
   ],
   "source": [
    "print(10**2)"
   ]
  },
  {
   "cell_type": "code",
   "execution_count": null,
   "id": "007ebd58",
   "metadata": {},
   "outputs": [
    {
     "name": "stdout",
     "output_type": "stream",
     "text": [
      "<class 'str'>\n",
      "Saniya\n"
     ]
    }
   ],
   "source": [
    "name=\"Saniya\"\n",
    "print(type(name))\n",
    "print(name)"
   ]
  },
  {
   "cell_type": "code",
   "execution_count": 30,
   "id": "7522ce7c",
   "metadata": {},
   "outputs": [
    {
     "name": "stdout",
     "output_type": "stream",
     "text": [
      "My name is \t Saniya \n",
      " and i am a bacha.\n"
     ]
    }
   ],
   "source": [
    "print(f\"My name is \\t {name} \\n and i am a bacha.\")"
   ]
  },
  {
   "cell_type": "code",
   "execution_count": 34,
   "id": "908d812a",
   "metadata": {},
   "outputs": [
    {
     "data": {
      "text/plain": [
       "[0, 1, 2, 3, 4, 5]"
      ]
     },
     "execution_count": 34,
     "metadata": {},
     "output_type": "execute_result"
    }
   ],
   "source": [
    "x=list(range(6))\n",
    "x"
   ]
  },
  {
   "cell_type": "code",
   "execution_count": 35,
   "id": "b09cd084",
   "metadata": {},
   "outputs": [
    {
     "name": "stdout",
     "output_type": "stream",
     "text": [
      "1000\n"
     ]
    }
   ],
   "source": [
    "print(200+800)"
   ]
  },
  {
   "cell_type": "code",
   "execution_count": 36,
   "id": "7266e6ad",
   "metadata": {},
   "outputs": [
    {
     "name": "stdout",
     "output_type": "stream",
     "text": [
      "1600\n"
     ]
    }
   ],
   "source": [
    "print(2000-400)"
   ]
  },
  {
   "cell_type": "code",
   "execution_count": 37,
   "id": "b1438f6b",
   "metadata": {},
   "outputs": [
    {
     "name": "stdout",
     "output_type": "stream",
     "text": [
      "40000\n"
     ]
    }
   ],
   "source": [
    "print(200**2)"
   ]
  },
  {
   "cell_type": "code",
   "execution_count": 38,
   "id": "c96dcfd8",
   "metadata": {},
   "outputs": [
    {
     "name": "stdout",
     "output_type": "stream",
     "text": [
      "1000\n"
     ]
    }
   ],
   "source": [
    "print(500*2)"
   ]
  },
  {
   "cell_type": "code",
   "execution_count": 39,
   "id": "a74eabda",
   "metadata": {},
   "outputs": [
    {
     "name": "stdout",
     "output_type": "stream",
     "text": [
      "2\n"
     ]
    }
   ],
   "source": [
    "print(200%3)"
   ]
  },
  {
   "cell_type": "code",
   "execution_count": 40,
   "id": "76846ea8",
   "metadata": {},
   "outputs": [
    {
     "name": "stdout",
     "output_type": "stream",
     "text": [
      "<class 'str'>\n",
      "Saniya\n"
     ]
    }
   ],
   "source": [
    "name=\"Saniya\"\n",
    "print(type(name))\n",
    "print(name)"
   ]
  },
  {
   "cell_type": "code",
   "execution_count": 41,
   "id": "27ed903f",
   "metadata": {},
   "outputs": [
    {
     "name": "stdout",
     "output_type": "stream",
     "text": [
      "My name is Saniya and I am aapi\n"
     ]
    }
   ],
   "source": [
    "print(f\"My name is {name} and I am aapi\")"
   ]
  },
  {
   "cell_type": "code",
   "execution_count": null,
   "id": "b7afb930",
   "metadata": {},
   "outputs": [],
   "source": []
  }
 ],
 "metadata": {
  "kernelspec": {
   "display_name": "Python 3",
   "language": "python",
   "name": "python3"
  },
  "language_info": {
   "codemirror_mode": {
    "name": "ipython",
    "version": 3
   },
   "file_extension": ".py",
   "mimetype": "text/x-python",
   "name": "python",
   "nbconvert_exporter": "python",
   "pygments_lexer": "ipython3",
   "version": "3.12.0"
  }
 },
 "nbformat": 4,
 "nbformat_minor": 5
}
