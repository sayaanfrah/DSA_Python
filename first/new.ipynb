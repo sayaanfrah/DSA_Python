{
 "cells": [
  {
   "cell_type": "code",
   "execution_count": 5,
   "id": "87aaa9d3",
   "metadata": {},
   "outputs": [
    {
     "name": "stdout",
     "output_type": "stream",
     "text": [
      "1 3 5 7 9 11 13 15 17 19 "
     ]
    }
   ],
   "source": [
    "# name='vencesa'\n",
    "# def function1(name):\n",
    "#     for i in range(name):\n",
    "#         if i=='s':\n",
    "#             break\n",
    "#         else:\n",
    "#             print(i)\n",
    "for i in range(1,20,2):\n",
    "    print(i,end=\" \")"
   ]
  },
  {
   "cell_type": "code",
   "execution_count": 6,
   "id": "e8b1d888",
   "metadata": {},
   "outputs": [
    {
     "data": {
      "text/plain": [
       "[0, 1, 2, 3, 4, 5, 6, 7, 8, 9, 10, 11, 12, 13, 14, 15, 16, 17, 18, 19]"
      ]
     },
     "execution_count": 6,
     "metadata": {},
     "output_type": "execute_result"
    }
   ],
   "source": [
    "\n",
    "list(range(20))"
   ]
  },
  {
   "cell_type": "code",
   "execution_count": 1,
   "id": "48512326",
   "metadata": {},
   "outputs": [],
   "source": [
    "# # Fix encoding issue by replacing problematic characters before generating the PDF content\n",
    "# import unicodedata\n",
    "\n",
    "# def clean_text(text):\n",
    "#     return unicodedata.normalize(\"NFKD\", text).encode(\"ascii\", \"ignore\").decode(\"ascii\")\n",
    "\n",
    "# # Regenerate PDF content with cleaned text\n",
    "# pdf = PDF()\n",
    "# pdf.set_auto_page_break(auto=True, margin=15)\n",
    "# pdf.add_page()\n",
    "\n",
    "# # Add cleaned sections\n",
    "# pdf.section_title(\"PROFESSIONAL SUMMARY\")\n",
    "# pdf.section_body(clean_text(\"\"\"Detail-oriented and analytical professional with hands-on experience in data analytics, reporting, and operational support through virtual internships and academic projects. Proficient in advanced Excel, Python, data visualization tools, and cross-functional coordination. Adept at working in fast-paced environments with an entrepreneurial mindset and strong problem-solving abilities. Seeking to contribute to Mastercard’s Cardholder Services operations by ensuring process efficiency, reporting accuracy, and continuous improvement.\n",
    "# \"\"\"))\n",
    "\n",
    "# pdf.section_title(\"EDUCATION\")\n",
    "# pdf.section_body(clean_text(\"\"\"Bachelor of Engineering (B.E.) – Computer & Communication Engineering\n",
    "# R.K.D.F. Institute of Science & Technology, 2016 – 2020\n",
    "# CGPA: 8.00/10\n",
    "# \"\"\"))\n",
    "\n",
    "# pdf.section_title(\"RELEVANT EXPERIENCE\")\n",
    "# pdf.section_body(clean_text(\"\"\"Data Analytics Intern – Quantium (Virtual), Apr 2024 – Apr 2024\n",
    "# - Completed job simulation focused on data analytics and commercial insights.\n",
    "# - Utilized transaction datasets for data preparation and created actionable business recommendations.\n",
    "\n",
    "# Data Science Virtual Intern – British Airways (Forage), Apr 2023 – Apr 2023\n",
    "# - Built a predictive model to understand customer buying behavior.\n",
    "# - Analyzed customer reviews to extract key insights improving service strategies.\n",
    "\n",
    "# Data Visualization Intern – Tata Consultancy Services (Forage), Jan 2023 – Mar 2023\n",
    "# - Created executive dashboards and visual reports to support strategic decisions.\n",
    "# - Collaborated on presentation material for client leadership based on analytics.\n",
    "\n",
    "# Data Science Intern – FlipRobo (Virtual), Mar 2021 – Sep 2021\n",
    "# - Worked on projects like Boston house price and cancer prediction models.\n",
    "# - Applied EDA, web scraping, and statistical modeling to real-world datasets.\n",
    "# \"\"\"))\n",
    "\n",
    "# pdf.section_title(\"SKILLS\")\n",
    "# pdf.section_body(clean_text(\"\"\"Tools & Languages: Excel (Advanced), Python, SQL, Tableau, Selenium, BeautifulSoup, Figma\n",
    "# Business & Analytics: Data Visualization, Reporting, Data Science, EDA, Statistical Modeling\n",
    "# Software Proficiency: MS Word (Intermediate), MS PowerPoint (Advanced)\n",
    "# Soft Skills: Problem-solving, Attention to detail, Self-starter, Adaptability, Communication\n",
    "# \"\"\"))\n",
    "\n",
    "# pdf.section_title(\"CERTIFICATIONS & TRAINING\")\n",
    "# pdf.section_body(clean_text(\"\"\"Excel – Internshala Trainings (Apr 2023 – May 2023)\n",
    "# General Aptitude – Internshala Trainings (Top Performer, Score: 94%)\n",
    "# Data Science & Analytics Virtual Internships – British Airways, TATA, Quantium (2023–2024)\n",
    "# \"\"\"))\n",
    "\n",
    "# pdf.section_title(\"PROJECTS & WORK SAMPLES\")\n",
    "# pdf.section_body(clean_text(\"GitHub Portfolio: github.com/sayaanfrah/EDA_solutions\"))\n",
    "\n",
    "# pdf.section_title(\"ADDITIONAL\")\n",
    "# pdf.section_body(clean_text(\"\"\"Recognized for leadership and team contribution in sports, awarded by an Army officer at school-level championship.\n",
    "# \"\"\"))\n",
    "\n",
    "# # Save the cleaned, ATS-friendly PDF\n",
    "# final_output_path = \"/mnt/data/Sayaan_Frah_Mastercard_Resume.pdf\"\n",
    "# pdf.output(final_output_path)\n",
    "\n",
    "# final_output_path\n"
   ]
  },
  {
   "cell_type": "code",
   "execution_count": 2,
   "id": "6592447c",
   "metadata": {},
   "outputs": [
    {
     "name": "stdout",
     "output_type": "stream",
     "text": [
      "Learing from Udemy Course\n",
      "We have Learned the print function that its written between 2 Paranthesis ()\n",
      "468\n",
      "If we use Oparators we can get result directly printed in the terminal\n"
     ]
    }
   ],
   "source": [
    "print(\"Learing from Udemy Course\")\n",
    "print(\"We have Learned the print function that its written between 2 Paranthesis ()\")\n",
    "print(234+234)\n",
    "print(\"If we use Oparators we can get result directly printed in the terminal\")\n"
   ]
  },
  {
   "cell_type": "code",
   "execution_count": 3,
   "id": "44040295",
   "metadata": {},
   "outputs": [
    {
     "name": "stdout",
     "output_type": "stream",
     "text": [
      "This is the first line \n",
      " we are here to learn the new pyton programming language\n",
      "*\n",
      "*\n",
      "*\n",
      "*\n",
      "*\n",
      "*\n",
      "*\n",
      "*\n",
      "*\n",
      "*\n",
      "*\n",
      "*\n",
      "*\n",
      "*\n",
      "*\n",
      "*\n",
      "*\n",
      "*\n",
      "*\n",
      "*\n",
      "*\n",
      "*\n",
      "*\n",
      "*\n",
      "*\n",
      "*\n",
      "*\n",
      "*\n",
      "*\n",
      "*\n",
      "*\n",
      "*\n",
      "*\n",
      "*\n",
      "*\n",
      "*\n",
      "*\n",
      "*\n",
      "*\n",
      "*\n",
      "*\n",
      "*\n",
      "*\n",
      "*\n",
      "*\n",
      "*\n",
      "*\n",
      "*\n",
      "*\n",
      "*\n",
      "*\n",
      "*\n",
      "*\n",
      "*\n",
      "*\n"
     ]
    }
   ],
   "source": [
    "print(\"This is the first line \\n we are here to learn the new pyton programming language\")\n",
    "i=10\n",
    "for i in range(0,i+1):\n",
    "    for j in range(i):\n",
    "        print(\"*\")"
   ]
  },
  {
   "cell_type": "code",
   "execution_count": 18,
   "id": "7ce5619e",
   "metadata": {},
   "outputs": [
    {
     "name": "stdout",
     "output_type": "stream",
     "text": [
      "Print the sum of first n natural numbers\n",
      "500500.0\n",
      "For 10 its 55\n",
      "for 100 its 5050\n",
      "For 1000 its 500500\n",
      "its the shortest way to calcualte the sum for first n natural numbers\n"
     ]
    }
   ],
   "source": [
    "print(\"Print the sum of first n natural numbers\")\n",
    "n=1000\n",
    "def function1(n):\n",
    "    return n*(n+1)/2\n",
    "print(function1(n))\n",
    "print(\"For 10 its 55\")\n",
    "print(\"for 100 its 5050\")\n",
    "print(\"For 1000 its 500500\")\n",
    "print(\"its the shortest way to calcualte the sum for first n natural numbers\")\n"
   ]
  },
  {
   "cell_type": "code",
   "execution_count": 20,
   "id": "0ba767e8",
   "metadata": {},
   "outputs": [
    {
     "data": {
      "text/plain": [
       "93326215443944152681699238856266700490715968264381621468592963895217599993229915608941463976156518286253697920827223758251185210916864000000000000000000000000"
      ]
     },
     "execution_count": 20,
     "metadata": {},
     "output_type": "execute_result"
    }
   ],
   "source": [
    "import math\n",
    "def function2(n):\n",
    "    return math.factorial(n)\n",
    "\n",
    "n=100\n",
    "function2(n)"
   ]
  },
  {
   "cell_type": "code",
   "execution_count": null,
   "id": "d6e1abf8",
   "metadata": {},
   "outputs": [],
   "source": []
  }
 ],
 "metadata": {
  "kernelspec": {
   "display_name": "Python 3",
   "language": "python",
   "name": "python3"
  },
  "language_info": {
   "codemirror_mode": {
    "name": "ipython",
    "version": 3
   },
   "file_extension": ".py",
   "mimetype": "text/x-python",
   "name": "python",
   "nbconvert_exporter": "python",
   "pygments_lexer": "ipython3",
   "version": "3.12.0"
  }
 },
 "nbformat": 4,
 "nbformat_minor": 5
}
