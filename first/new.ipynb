{
 "cells": [
  {
   "cell_type": "code",
   "execution_count": 5,
   "id": "87aaa9d3",
   "metadata": {},
   "outputs": [
    {
     "name": "stdout",
     "output_type": "stream",
     "text": [
      "1 3 5 7 9 11 13 15 17 19 "
     ]
    }
   ],
   "source": [
    "# name='vencesa'\n",
    "# def function1(name):\n",
    "#     for i in range(name):\n",
    "#         if i=='s':\n",
    "#             break\n",
    "#         else:\n",
    "#             print(i)\n",
    "for i in range(1,20,2):\n",
    "    print(i,end=\" \")"
   ]
  },
  {
   "cell_type": "code",
   "execution_count": 6,
   "id": "e8b1d888",
   "metadata": {},
   "outputs": [
    {
     "data": {
      "text/plain": [
       "[0, 1, 2, 3, 4, 5, 6, 7, 8, 9, 10, 11, 12, 13, 14, 15, 16, 17, 18, 19]"
      ]
     },
     "execution_count": 6,
     "metadata": {},
     "output_type": "execute_result"
    }
   ],
   "source": [
    "\n",
    "list(range(20))"
   ]
  },
  {
   "cell_type": "code",
   "execution_count": 1,
   "id": "48512326",
   "metadata": {},
   "outputs": [],
   "source": [
    "# # Fix encoding issue by replacing problematic characters before generating the PDF content\n",
    "# import unicodedata\n",
    "\n",
    "# def clean_text(text):\n",
    "#     return unicodedata.normalize(\"NFKD\", text).encode(\"ascii\", \"ignore\").decode(\"ascii\")\n",
    "\n",
    "# # Regenerate PDF content with cleaned text\n",
    "# pdf = PDF()\n",
    "# pdf.set_auto_page_break(auto=True, margin=15)\n",
    "# pdf.add_page()\n",
    "\n",
    "# # Add cleaned sections\n",
    "# pdf.section_title(\"PROFESSIONAL SUMMARY\")\n",
    "# pdf.section_body(clean_text(\"\"\"Detail-oriented and analytical professional with hands-on experience in data analytics, reporting, and operational support through virtual internships and academic projects. Proficient in advanced Excel, Python, data visualization tools, and cross-functional coordination. Adept at working in fast-paced environments with an entrepreneurial mindset and strong problem-solving abilities. Seeking to contribute to Mastercard’s Cardholder Services operations by ensuring process efficiency, reporting accuracy, and continuous improvement.\n",
    "# \"\"\"))\n",
    "\n",
    "# pdf.section_title(\"EDUCATION\")\n",
    "# pdf.section_body(clean_text(\"\"\"Bachelor of Engineering (B.E.) – Computer & Communication Engineering\n",
    "# R.K.D.F. Institute of Science & Technology, 2016 – 2020\n",
    "# CGPA: 8.00/10\n",
    "# \"\"\"))\n",
    "\n",
    "# pdf.section_title(\"RELEVANT EXPERIENCE\")\n",
    "# pdf.section_body(clean_text(\"\"\"Data Analytics Intern – Quantium (Virtual), Apr 2024 – Apr 2024\n",
    "# - Completed job simulation focused on data analytics and commercial insights.\n",
    "# - Utilized transaction datasets for data preparation and created actionable business recommendations.\n",
    "\n",
    "# Data Science Virtual Intern – British Airways (Forage), Apr 2023 – Apr 2023\n",
    "# - Built a predictive model to understand customer buying behavior.\n",
    "# - Analyzed customer reviews to extract key insights improving service strategies.\n",
    "\n",
    "# Data Visualization Intern – Tata Consultancy Services (Forage), Jan 2023 – Mar 2023\n",
    "# - Created executive dashboards and visual reports to support strategic decisions.\n",
    "# - Collaborated on presentation material for client leadership based on analytics.\n",
    "\n",
    "# Data Science Intern – FlipRobo (Virtual), Mar 2021 – Sep 2021\n",
    "# - Worked on projects like Boston house price and cancer prediction models.\n",
    "# - Applied EDA, web scraping, and statistical modeling to real-world datasets.\n",
    "# \"\"\"))\n",
    "\n",
    "# pdf.section_title(\"SKILLS\")\n",
    "# pdf.section_body(clean_text(\"\"\"Tools & Languages: Excel (Advanced), Python, SQL, Tableau, Selenium, BeautifulSoup, Figma\n",
    "# Business & Analytics: Data Visualization, Reporting, Data Science, EDA, Statistical Modeling\n",
    "# Software Proficiency: MS Word (Intermediate), MS PowerPoint (Advanced)\n",
    "# Soft Skills: Problem-solving, Attention to detail, Self-starter, Adaptability, Communication\n",
    "# \"\"\"))\n",
    "\n",
    "# pdf.section_title(\"CERTIFICATIONS & TRAINING\")\n",
    "# pdf.section_body(clean_text(\"\"\"Excel – Internshala Trainings (Apr 2023 – May 2023)\n",
    "# General Aptitude – Internshala Trainings (Top Performer, Score: 94%)\n",
    "# Data Science & Analytics Virtual Internships – British Airways, TATA, Quantium (2023–2024)\n",
    "# \"\"\"))\n",
    "\n",
    "# pdf.section_title(\"PROJECTS & WORK SAMPLES\")\n",
    "# pdf.section_body(clean_text(\"GitHub Portfolio: github.com/sayaanfrah/EDA_solutions\"))\n",
    "\n",
    "# pdf.section_title(\"ADDITIONAL\")\n",
    "# pdf.section_body(clean_text(\"\"\"Recognized for leadership and team contribution in sports, awarded by an Army officer at school-level championship.\n",
    "# \"\"\"))\n",
    "\n",
    "# # Save the cleaned, ATS-friendly PDF\n",
    "# final_output_path = \"/mnt/data/Sayaan_Frah_Mastercard_Resume.pdf\"\n",
    "# pdf.output(final_output_path)\n",
    "\n",
    "# final_output_path\n"
   ]
  },
  {
   "cell_type": "code",
   "execution_count": 2,
   "id": "6592447c",
   "metadata": {},
   "outputs": [
    {
     "name": "stdout",
     "output_type": "stream",
     "text": [
      "Learing from Udemy Course\n",
      "We have Learned the print function that its written between 2 Paranthesis ()\n",
      "468\n",
      "If we use Oparators we can get result directly printed in the terminal\n"
     ]
    }
   ],
   "source": [
    "print(\"Learing from Udemy Course\")\n",
    "print(\"We have Learned the print function that its written between 2 Paranthesis ()\")\n",
    "print(234+234)\n",
    "print(\"If we use Oparators we can get result directly printed in the terminal\")\n"
   ]
  },
  {
   "cell_type": "code",
   "execution_count": null,
   "id": "44040295",
   "metadata": {},
   "outputs": [],
   "source": []
  },
  {
   "cell_type": "code",
   "execution_count": 18,
   "id": "7ce5619e",
   "metadata": {},
   "outputs": [
    {
     "name": "stdout",
     "output_type": "stream",
     "text": [
      "Print the sum of first n natural numbers\n",
      "500500.0\n",
      "For 10 its 55\n",
      "for 100 its 5050\n",
      "For 1000 its 500500\n",
      "its the shortest way to calcualte the sum for first n natural numbers\n"
     ]
    }
   ],
   "source": [
    "print(\"Print the sum of first n natural numbers\")\n",
    "n=1000\n",
    "def function1(n):\n",
    "    return n*(n+1)/2\n",
    "print(function1(n))\n",
    "print(\"For 10 its 55\")\n",
    "print(\"for 100 its 5050\")\n",
    "print(\"For 1000 its 500500\")\n",
    "print(\"its the shortest way to calcualte the sum for first n natural numbers\")\n"
   ]
  },
  {
   "cell_type": "code",
   "execution_count": 21,
   "id": "0ba767e8",
   "metadata": {},
   "outputs": [
    {
     "data": {
      "text/plain": [
       "3628800"
      ]
     },
     "execution_count": 21,
     "metadata": {},
     "output_type": "execute_result"
    }
   ],
   "source": [
    "import math\n",
    "def function2(n):\n",
    "    return math.factorial(n)\n",
    "\n",
    "n=10\n",
    "function2(n)"
   ]
  },
  {
   "cell_type": "code",
   "execution_count": 25,
   "id": "799bb99a",
   "metadata": {},
   "outputs": [
    {
     "name": "stdout",
     "output_type": "stream",
     "text": [
      "The end ?! \n",
      " or is it To learn more python program  3\n"
     ]
    }
   ],
   "source": [
    "print(\"The end ?! \\n\",\"or is it\",\"To learn more python program \",3)"
   ]
  },
  {
   "cell_type": "code",
   "execution_count": null,
   "id": "d6e1abf8",
   "metadata": {},
   "outputs": [
    {
     "name": "stdout",
     "output_type": "stream",
     "text": [
      "Going to learn Python strings\n",
      "Today is a good day to learn Python\n",
      "Python is fun\n",
      "Python's string are easy to use\n",
      "Is it difficult to understand the concept of Python\"\"s \n"
     ]
    }
   ],
   "source": [
    "# Learning Python Strings\n",
    "print(\"Going to learn Python strings\")\n",
    "print(\"Today is a good day to learn Python\")\n",
    "print('Python is fun')\n",
    "print(\"Python's string are easy to use\")\n",
    "print(\"Is it difficult to understand the concept of Python's \")"
   ]
  },
  {
   "cell_type": "code",
   "execution_count": 29,
   "id": "65b68db4",
   "metadata": {},
   "outputs": [
    {
     "name": "stdout",
     "output_type": "stream",
     "text": [
      "We can even include \"quotes\" in string\n"
     ]
    }
   ],
   "source": [
    "print('We can even include \"quotes\" in string')"
   ]
  },
  {
   "cell_type": "code",
   "execution_count": 30,
   "id": "600dbd70",
   "metadata": {},
   "outputs": [
    {
     "data": {
      "text/plain": [
       "54756"
      ]
     },
     "execution_count": 30,
     "metadata": {},
     "output_type": "execute_result"
    }
   ],
   "source": [
    "#working with Operators\n",
    "234*234\n"
   ]
  },
  {
   "cell_type": "code",
   "execution_count": 39,
   "id": "e69f6a8c",
   "metadata": {},
   "outputs": [
    {
     "name": "stdout",
     "output_type": "stream",
     "text": [
      "Hello World\n",
      "Hellow world\n",
      "Hello Hemlata How are you?\n",
      "Hello Hemlata\n"
     ]
    }
   ],
   "source": [
    "print(\"Hello \"+\"World\")\n",
    "print(\"Hellow world\")\n",
    "greetings=\"Hello\"\n",
    "name=input(\"enter your name\")\n",
    "print(f\"{greetings} {name} How are you?\")\n",
    "print(greetings+' '+name)"
   ]
  },
  {
   "cell_type": "code",
   "execution_count": 40,
   "id": "d334517a",
   "metadata": {},
   "outputs": [
    {
     "name": "stdout",
     "output_type": "stream",
     "text": [
      "This String \n",
      " has been split over \n",
      " several lines\n"
     ]
    }
   ],
   "source": [
    "splitString=\"This String \\n has been split over \\n several lines\"\n",
    "print(splitString)"
   ]
  },
  {
   "cell_type": "code",
   "execution_count": 41,
   "id": "d15dd8b9",
   "metadata": {},
   "outputs": [
    {
     "name": "stdout",
     "output_type": "stream",
     "text": [
      "We are just \t goint to have some \t food in our basket\t can you bring it?\n"
     ]
    }
   ],
   "source": [
    "Sentence=\"We are just \\t goint to have some \\t food in our basket\\t can you bring it?\"\n",
    "print(Sentence)"
   ]
  },
  {
   "cell_type": "code",
   "execution_count": 2,
   "id": "39a6c443",
   "metadata": {},
   "outputs": [
    {
     "name": "stdout",
     "output_type": "stream",
     "text": [
      "1\t2\t3\t4\t5\n"
     ]
    }
   ],
   "source": [
    "#Now we will learn about tabbed String\n",
    "tabbedString=\"1\\t2\\t3\\t4\\t5\"\n",
    "print(tabbedString) "
   ]
  },
  {
   "cell_type": "code",
   "execution_count": 3,
   "id": "1967a9c1",
   "metadata": {},
   "outputs": [
    {
     "name": "stdout",
     "output_type": "stream",
     "text": [
      "Welcome Sayaan\n"
     ]
    }
   ],
   "source": [
    "Greetings=\"Welcome\"\n",
    "name=input(\"enter your name\")\n",
    "print(Greetings,name)"
   ]
  },
  {
   "cell_type": "code",
   "execution_count": 7,
   "id": "e5c465f9",
   "metadata": {},
   "outputs": [
    {
     "name": "stdout",
     "output_type": "stream",
     "text": [
      "Learning \t about \t  tabbed String\n"
     ]
    }
   ],
   "source": [
    "print(\"Learning \\t about \\t  tabbed String\")"
   ]
  },
  {
   "cell_type": "code",
   "execution_count": 10,
   "id": "9621397c",
   "metadata": {},
   "outputs": [
    {
     "name": "stdout",
     "output_type": "stream",
     "text": [
      "The pet owner said \"No no he's very much tired so that's why can't talk\".\n",
      "The pet owner said that 'No ,no, uhhhh...\n",
      " he's resting right now and can't talk right now '\n"
     ]
    }
   ],
   "source": [
    "print('The pet owner said \"No no he\\'s very much tired so that\\'s why can\\'t talk\".')\n",
    "print(\"The pet owner said that 'No ,no, uhhhh...\\n he\\'s resting right now and can\\'t talk right now '\")"
   ]
  },
  {
   "cell_type": "code",
   "execution_count": 34,
   "id": "b8fbe7eb",
   "metadata": {},
   "outputs": [
    {
     "name": "stdout",
     "output_type": "stream",
     "text": [
      "C: \\Users\\link_connect\\more.txt\n",
      "C:\\Users\\link_connect\\nore.txt\n"
     ]
    }
   ],
   "source": [
    "print(\"C: \\\\Users\\\\link_connect\\\\more.txt\")\n",
    "print(r\"C:\\Users\\link_connect\\nore.txt\")"
   ]
  },
  {
   "cell_type": "code",
   "execution_count": 35,
   "id": "4bfe9db7",
   "metadata": {},
   "outputs": [
    {
     "name": "stdout",
     "output_type": "stream",
     "text": [
      "C:\\Users\\timbuchalka\\notes.txt\n",
      "C:\\Users\\timbuchalka\\notes.txt\n"
     ]
    }
   ],
   "source": [
    "print(\"C:\\\\Users\\\\timbuchalka\\\\notes.txt\")\n",
    "print(r\"C:\\Users\\timbuchalka\\notes.txt\")"
   ]
  },
  {
   "cell_type": "code",
   "execution_count": 1,
   "id": "b32a3933",
   "metadata": {},
   "outputs": [
    {
     "name": "stdout",
     "output_type": "stream",
     "text": [
      "Understanding Variables and data types\n"
     ]
    }
   ],
   "source": [
    "print(\"Understanding Variables and data types\")"
   ]
  },
  {
   "cell_type": "code",
   "execution_count": 6,
   "id": "5f61ada2",
   "metadata": {},
   "outputs": [
    {
     "name": "stdout",
     "output_type": "stream",
     "text": [
      "<class 'int'> A is an integer data type\n",
      "<class 'str'> B is a string data type\n",
      "<class 'float'> is a float datatype\n"
     ]
    }
   ],
   "source": [
    "#Now we will learn about Working with variables and datatypes\n",
    "a=23\n",
    "print(type(a),\"A is an integer data type\")\n",
    "b=\"Name\"\n",
    "print(type(b),\"B is a string data type\")\n",
    "c=234.234\n",
    "print(type(c),\"is a float datatype\")\n"
   ]
  },
  {
   "cell_type": "code",
   "execution_count": null,
   "id": "7f90f5cf",
   "metadata": {},
   "outputs": [
    {
     "name": "stdout",
     "output_type": "stream",
     "text": [
      "23.0\n",
      "NOw \t we will learn about \t indexing in python\n",
      "Hello\n",
      "going to loose\n"
     ]
    }
   ],
   "source": [
    "#Now  we will learn about typecasting in Python and its uses\n",
    "a\n",
    "d=float(a)\n",
    "print(d)\n",
    "\"from the above the value of d is now a float value as we have typecasted to float\"\n",
    "print(\"NOw \\t we will learn about \\t indexing in python\")\n",
    "print(\"Hello World\"[:5])\n",
    "print('We are not going to loose'[11:])\n",
    "print(\"\")"
   ]
  },
  {
   "cell_type": "code",
   "execution_count": 18,
   "id": "51d12352",
   "metadata": {},
   "outputs": [
    {
     "ename": "AttributeError",
     "evalue": "'str' object has no attribute 'capabilities'",
     "output_type": "error",
     "traceback": [
      "\u001b[31m---------------------------------------------------------------------------\u001b[39m",
      "\u001b[31mAttributeError\u001b[39m                            Traceback (most recent call last)",
      "\u001b[36mCell\u001b[39m\u001b[36m \u001b[39m\u001b[32mIn[18]\u001b[39m\u001b[32m, line 5\u001b[39m\n\u001b[32m      3\u001b[39m \u001b[38;5;28;01mfrom\u001b[39;00m\u001b[38;5;250m \u001b[39m\u001b[34;01mselenium\u001b[39;00m\u001b[34;01m.\u001b[39;00m\u001b[34;01mwebdriver\u001b[39;00m\u001b[34;01m.\u001b[39;00m\u001b[34;01mcommon\u001b[39;00m\u001b[34;01m.\u001b[39;00m\u001b[34;01mby\u001b[39;00m\u001b[38;5;250m \u001b[39m\u001b[38;5;28;01mimport\u001b[39;00m By\n\u001b[32m      4\u001b[39m \u001b[38;5;28;01mfrom\u001b[39;00m\u001b[38;5;250m \u001b[39m\u001b[34;01mselenium\u001b[39;00m\u001b[34;01m.\u001b[39;00m\u001b[34;01mcommon\u001b[39;00m\u001b[34;01m.\u001b[39;00m\u001b[34;01mexceptions\u001b[39;00m\u001b[38;5;250m \u001b[39m\u001b[38;5;28;01mimport\u001b[39;00m StaleElementReferenceException,NoAlertPresentException,NoSuchAttributeException,NoSuchElementException,ElementNotInteractableException,ElementNotVisibleException\n\u001b[32m----> \u001b[39m\u001b[32m5\u001b[39m driver=\u001b[43mwebdriver\u001b[49m\u001b[43m.\u001b[49m\u001b[43mChrome\u001b[49m\u001b[43m(\u001b[49m\u001b[33;43mr\u001b[39;49m\u001b[33;43m\"\u001b[39;49m\u001b[33;43mD://chromedriver-win64//chromedriver-win64//chromedriver.exe\u001b[39;49m\u001b[33;43m\"\u001b[39;49m\u001b[43m)\u001b[49m\n",
      "\u001b[36mFile \u001b[39m\u001b[32me:\\Dtatrn\\vinv\\Lib\\site-packages\\selenium\\webdriver\\chrome\\webdriver.py:47\u001b[39m, in \u001b[36mWebDriver.__init__\u001b[39m\u001b[34m(self, options, service, keep_alive)\u001b[39m\n\u001b[32m     44\u001b[39m service = service \u001b[38;5;28;01mif\u001b[39;00m service \u001b[38;5;28;01melse\u001b[39;00m Service()\n\u001b[32m     45\u001b[39m options = options \u001b[38;5;28;01mif\u001b[39;00m options \u001b[38;5;28;01melse\u001b[39;00m Options()\n\u001b[32m---> \u001b[39m\u001b[32m47\u001b[39m \u001b[38;5;28;43msuper\u001b[39;49m\u001b[43m(\u001b[49m\u001b[43m)\u001b[49m\u001b[43m.\u001b[49m\u001b[34;43m__init__\u001b[39;49m\u001b[43m(\u001b[49m\n\u001b[32m     48\u001b[39m \u001b[43m    \u001b[49m\u001b[43mbrowser_name\u001b[49m\u001b[43m=\u001b[49m\u001b[43mDesiredCapabilities\u001b[49m\u001b[43m.\u001b[49m\u001b[43mCHROME\u001b[49m\u001b[43m[\u001b[49m\u001b[33;43m\"\u001b[39;49m\u001b[33;43mbrowserName\u001b[39;49m\u001b[33;43m\"\u001b[39;49m\u001b[43m]\u001b[49m\u001b[43m,\u001b[49m\n\u001b[32m     49\u001b[39m \u001b[43m    \u001b[49m\u001b[43mvendor_prefix\u001b[49m\u001b[43m=\u001b[49m\u001b[33;43m\"\u001b[39;49m\u001b[33;43mgoog\u001b[39;49m\u001b[33;43m\"\u001b[39;49m\u001b[43m,\u001b[49m\n\u001b[32m     50\u001b[39m \u001b[43m    \u001b[49m\u001b[43moptions\u001b[49m\u001b[43m=\u001b[49m\u001b[43moptions\u001b[49m\u001b[43m,\u001b[49m\n\u001b[32m     51\u001b[39m \u001b[43m    \u001b[49m\u001b[43mservice\u001b[49m\u001b[43m=\u001b[49m\u001b[43mservice\u001b[49m\u001b[43m,\u001b[49m\n\u001b[32m     52\u001b[39m \u001b[43m    \u001b[49m\u001b[43mkeep_alive\u001b[49m\u001b[43m=\u001b[49m\u001b[43mkeep_alive\u001b[49m\u001b[43m,\u001b[49m\n\u001b[32m     53\u001b[39m \u001b[43m\u001b[49m\u001b[43m)\u001b[49m\n",
      "\u001b[36mFile \u001b[39m\u001b[32me:\\Dtatrn\\vinv\\Lib\\site-packages\\selenium\\webdriver\\chromium\\webdriver.py:53\u001b[39m, in \u001b[36mChromiumDriver.__init__\u001b[39m\u001b[34m(self, browser_name, vendor_prefix, options, service, keep_alive)\u001b[39m\n\u001b[32m     50\u001b[39m \u001b[38;5;28mself\u001b[39m.service = service\n\u001b[32m     52\u001b[39m finder = DriverFinder(\u001b[38;5;28mself\u001b[39m.service, options)\n\u001b[32m---> \u001b[39m\u001b[32m53\u001b[39m \u001b[38;5;28;01mif\u001b[39;00m \u001b[43mfinder\u001b[49m\u001b[43m.\u001b[49m\u001b[43mget_browser_path\u001b[49m\u001b[43m(\u001b[49m\u001b[43m)\u001b[49m:\n\u001b[32m     54\u001b[39m     options.binary_location = finder.get_browser_path()\n\u001b[32m     55\u001b[39m     options.browser_version = \u001b[38;5;28;01mNone\u001b[39;00m\n",
      "\u001b[36mFile \u001b[39m\u001b[32me:\\Dtatrn\\vinv\\Lib\\site-packages\\selenium\\webdriver\\common\\driver_finder.py:47\u001b[39m, in \u001b[36mDriverFinder.get_browser_path\u001b[39m\u001b[34m(self)\u001b[39m\n\u001b[32m     46\u001b[39m \u001b[38;5;28;01mdef\u001b[39;00m\u001b[38;5;250m \u001b[39m\u001b[34mget_browser_path\u001b[39m(\u001b[38;5;28mself\u001b[39m) -> \u001b[38;5;28mstr\u001b[39m:\n\u001b[32m---> \u001b[39m\u001b[32m47\u001b[39m     \u001b[38;5;28;01mreturn\u001b[39;00m \u001b[38;5;28;43mself\u001b[39;49m\u001b[43m.\u001b[49m\u001b[43m_binary_paths\u001b[49m\u001b[43m(\u001b[49m\u001b[43m)\u001b[49m[\u001b[33m\"\u001b[39m\u001b[33mbrowser_path\u001b[39m\u001b[33m\"\u001b[39m]\n",
      "\u001b[36mFile \u001b[39m\u001b[32me:\\Dtatrn\\vinv\\Lib\\site-packages\\selenium\\webdriver\\common\\driver_finder.py:56\u001b[39m, in \u001b[36mDriverFinder._binary_paths\u001b[39m\u001b[34m(self)\u001b[39m\n\u001b[32m     53\u001b[39m \u001b[38;5;28;01mif\u001b[39;00m \u001b[38;5;28mself\u001b[39m._paths[\u001b[33m\"\u001b[39m\u001b[33mdriver_path\u001b[39m\u001b[33m\"\u001b[39m]:\n\u001b[32m     54\u001b[39m     \u001b[38;5;28;01mreturn\u001b[39;00m \u001b[38;5;28mself\u001b[39m._paths\n\u001b[32m---> \u001b[39m\u001b[32m56\u001b[39m browser = \u001b[38;5;28;43mself\u001b[39;49m\u001b[43m.\u001b[49m\u001b[43m_options\u001b[49m\u001b[43m.\u001b[49m\u001b[43mcapabilities\u001b[49m[\u001b[33m\"\u001b[39m\u001b[33mbrowserName\u001b[39m\u001b[33m\"\u001b[39m]\n\u001b[32m     57\u001b[39m \u001b[38;5;28;01mtry\u001b[39;00m:\n\u001b[32m     58\u001b[39m     path = \u001b[38;5;28mself\u001b[39m._service.path\n",
      "\u001b[31mAttributeError\u001b[39m: 'str' object has no attribute 'capabilities'"
     ]
    }
   ],
   "source": [
    "import selenium\n",
    "from selenium import webdriver\n",
    "from selenium.webdriver.common.by import By\n",
    "from selenium.common.exceptions import StaleElementReferenceException,NoAlertPresentException,NoSuchAttributeException,NoSuchElementException,ElementNotInteractableException,ElementNotVisibleException\n",
    "driver=webdriver.Chrome(r\"D://chromedriver-win64//chromedriver-win64//chromedriver.exe\")"
   ]
  },
  {
   "cell_type": "code",
   "execution_count": 21,
   "id": "ac6acb1a",
   "metadata": {},
   "outputs": [
    {
     "ename": "TypeError",
     "evalue": "'module' object is not callable",
     "output_type": "error",
     "traceback": [
      "\u001b[31m---------------------------------------------------------------------------\u001b[39m",
      "\u001b[31mTypeError\u001b[39m                                 Traceback (most recent call last)",
      "\u001b[36mCell\u001b[39m\u001b[36m \u001b[39m\u001b[32mIn[21]\u001b[39m\u001b[32m, line 11\u001b[39m\n\u001b[32m      8\u001b[39m service = Service(executable_path=chrome_driver_path)\n\u001b[32m     10\u001b[39m \u001b[38;5;66;03m# Initialize the WebDriver\u001b[39;00m\n\u001b[32m---> \u001b[39m\u001b[32m11\u001b[39m driver = \u001b[43mwebdriver\u001b[49m\u001b[43m.\u001b[49m\u001b[43mchrome\u001b[49m\u001b[43m(\u001b[49m\u001b[43mservice\u001b[49m\u001b[43m=\u001b[49m\u001b[43mservice\u001b[49m\u001b[43m)\u001b[49m\n",
      "\u001b[31mTypeError\u001b[39m: 'module' object is not callable"
     ]
    }
   ],
   "source": [
    "from selenium import webdriver\n",
    "from selenium.webdriver.chrome.service import Service\n",
    "\n",
    "# Corrected path to the ChromeDriver executable\n",
    "chrome_driver_path = r\"D:\\\\chromedriver-win64\\\\chromedriver.exe\"\n",
    "\n",
    "# Set up the Chrome driver service\n",
    "service = Service(executable_path=chrome_driver_path)\n",
    "\n",
    "# Initialize the WebDriver\n",
    "driver = webdriver.chrome(service=service)\n"
   ]
  },
  {
   "cell_type": "code",
   "execution_count": 1,
   "id": "faa521b2",
   "metadata": {},
   "outputs": [],
   "source": [
    "#We will learn about \n",
    "#Oops \n",
    "#definig a function and calling a function\n"
   ]
  },
  {
   "cell_type": "code",
   "execution_count": 3,
   "id": "2fe9038f",
   "metadata": {},
   "outputs": [
    {
     "name": "stdout",
     "output_type": "stream",
     "text": [
      "Key Found\n"
     ]
    }
   ],
   "source": [
    "arr=[10,20,30,40,50,60,70]\n",
    "key=30\n",
    "if key in arr:\n",
    "    print(\"Key Found\")\n",
    "else:\n",
    "    print(\"Not found\")"
   ]
  },
  {
   "cell_type": "code",
   "execution_count": 5,
   "id": "b77ecec8",
   "metadata": {},
   "outputs": [
    {
     "name": "stdout",
     "output_type": "stream",
     "text": [
      "Hello\\tworld\n"
     ]
    }
   ],
   "source": [
    "print(\"Hello\\\\tworld\")"
   ]
  },
  {
   "cell_type": "code",
   "execution_count": 8,
   "id": "30065198",
   "metadata": {},
   "outputs": [
    {
     "name": "stdout",
     "output_type": "stream",
     "text": [
      "C:\\new\\temp\\text.doc\n"
     ]
    }
   ],
   "source": [
    "print(\"C:\\\\new\\\\temp\\\\text.doc\")\n"
   ]
  },
  {
   "cell_type": "code",
   "execution_count": 2,
   "id": "045dc7a5",
   "metadata": {},
   "outputs": [
    {
     "name": "stdout",
     "output_type": "stream",
     "text": [
      "Hello\n",
      "world\n"
     ]
    }
   ],
   "source": [
    "print(\"Hello\\nworld\")"
   ]
  },
  {
   "cell_type": "code",
   "execution_count": 3,
   "id": "547b866a",
   "metadata": {},
   "outputs": [
    {
     "name": "stdout",
     "output_type": "stream",
     "text": [
      "323\n"
     ]
    }
   ],
   "source": [
    "age2=\"hello\"\n",
    "age1=323\n",
    "print(age1)"
   ]
  },
  {
   "cell_type": "code",
   "execution_count": 2,
   "id": "c096b1f1",
   "metadata": {},
   "outputs": [
    {
     "name": "stdout",
     "output_type": "stream",
     "text": [
      "different\n"
     ]
    }
   ],
   "source": [
    "x=10\n",
    "y=20\n",
    "if x is y:\n",
    "    print(\"same\")\n",
    "else:\n",
    "    print(\"different\")"
   ]
  },
  {
   "cell_type": "code",
   "execution_count": 4,
   "id": "ed7245d4",
   "metadata": {},
   "outputs": [
    {
     "name": "stdout",
     "output_type": "stream",
     "text": [
      "Name :  Python Year : 2019\n"
     ]
    }
   ],
   "source": [
    "name=\"Python\"\n",
    "year=2019\n",
    "print(\"Name : \",name,\"Year :\", year)"
   ]
  },
  {
   "cell_type": "code",
   "execution_count": 5,
   "id": "381b5881",
   "metadata": {},
   "outputs": [
    {
     "name": "stdout",
     "output_type": "stream",
     "text": [
      "My name is Python and i developed in 2019\n"
     ]
    }
   ],
   "source": [
    "print(f\"My name is {name} and i developed in {year}\")"
   ]
  },
  {
   "cell_type": "code",
   "execution_count": 6,
   "id": "fd6acbdc",
   "metadata": {},
   "outputs": [
    {
     "name": "stdout",
     "output_type": "stream",
     "text": [
      "19 is Ajay years old\n"
     ]
    }
   ],
   "source": [
    "name=\"Ajay\"\n",
    "age=19\n",
    "print(\"{1} is {0} years old\".format(name,age))"
   ]
  },
  {
   "cell_type": "code",
   "execution_count": 7,
   "id": "c6f0eb6a",
   "metadata": {},
   "outputs": [
    {
     "name": "stdout",
     "output_type": "stream",
     "text": [
      "sum =  15\n",
      "sub =  5\n",
      "mul =  50\n",
      "div =  2.0\n"
     ]
    }
   ],
   "source": [
    "a=int(input('enter first number'))\n",
    "b=int(input(\"enter second number\"))\n",
    "print(\"sum = \",a+b)\n",
    "print(\"sub = \",a-b)\n",
    "print(\"mul = \",a*b)\n",
    "print(\"div = \",a/b)"
   ]
  },
  {
   "cell_type": "code",
   "execution_count": 9,
   "id": "bd72f322",
   "metadata": {},
   "outputs": [
    {
     "data": {
      "text/plain": [
       "10"
      ]
     },
     "execution_count": 9,
     "metadata": {},
     "output_type": "execute_result"
    }
   ],
   "source": [
    "n=10\n",
    "m=50\n",
    "n%m\n"
   ]
  },
  {
   "cell_type": "code",
   "execution_count": 1,
   "id": "55c886fd",
   "metadata": {},
   "outputs": [
    {
     "data": {
      "text/plain": [
       "1024"
      ]
     },
     "execution_count": 1,
     "metadata": {},
     "output_type": "execute_result"
    }
   ],
   "source": [
    "#lets learn about the functions in python\n",
    "2**10"
   ]
  },
  {
   "cell_type": "code",
   "execution_count": 2,
   "id": "43acb485",
   "metadata": {},
   "outputs": [
    {
     "data": {
      "text/plain": [
       "1.0"
      ]
     },
     "execution_count": 2,
     "metadata": {},
     "output_type": "execute_result"
    }
   ],
   "source": [
    "11/11"
   ]
  },
  {
   "cell_type": "code",
   "execution_count": 3,
   "id": "8e6120fb",
   "metadata": {},
   "outputs": [
    {
     "data": {
      "text/plain": [
       "100"
      ]
     },
     "execution_count": 3,
     "metadata": {},
     "output_type": "execute_result"
    }
   ],
   "source": [
    "10**2"
   ]
  },
  {
   "cell_type": "code",
   "execution_count": 17,
   "id": "24e42d18",
   "metadata": {},
   "outputs": [
    {
     "name": "stdout",
     "output_type": "stream",
     "text": [
      "Hello Saniya Bangat\n",
      "Shanu Shaitan\n",
      "Badi bangat\n",
      "Badki Shaitan\n",
      "Choti Shaitan\n",
      "Golu \t Molu bhalu\n"
     ]
    }
   ],
   "source": [
    "def test1():\n",
    "    print(\"Hello Saniya Bangat\")\n",
    "    print(\"Shanu Shaitan\")\n",
    "    print(\"Badi bangat\")\n",
    "    print(\"Badki Shaitan\")\n",
    "    print(\"Choti Shaitan\")\n",
    "    print(\"Golu \\t Molu bhalu\")\n",
    "test1()"
   ]
  },
  {
   "cell_type": "code",
   "execution_count": 19,
   "id": "24951304",
   "metadata": {},
   "outputs": [
    {
     "name": "stdout",
     "output_type": "stream",
     "text": [
      "Sum =  30\n"
     ]
    }
   ],
   "source": [
    "\n",
    "a = 10\n",
    "b = 20\n",
    "b = a + b\n",
    "\n",
    "print(\"Sum = \", b)\n"
   ]
  },
  {
   "cell_type": "code",
   "execution_count": 22,
   "id": "8fc26b0c",
   "metadata": {},
   "outputs": [
    {
     "name": "stdout",
     "output_type": "stream",
     "text": [
      "124\n"
     ]
    }
   ],
   "source": [
    "name,page_count,price=\"Python\",124,42.33\n",
    "print(page_count)"
   ]
  },
  {
   "cell_type": "code",
   "execution_count": 3,
   "id": "dadb133a",
   "metadata": {},
   "outputs": [
    {
     "data": {
      "text/plain": [
       "[12, 24, 45, 456, 657, 3]"
      ]
     },
     "execution_count": 3,
     "metadata": {},
     "output_type": "execute_result"
    }
   ],
   "source": [
    "l=[12,24,45,456,657,3]\n",
    "def list1(l):\n",
    "    sum=0\n",
    "    for x in l:\n",
    "        sum+=x\n",
    "    return sum\n",
    "\n",
    "list(l)"
   ]
  },
  {
   "cell_type": "code",
   "execution_count": 1,
   "id": "84744b98",
   "metadata": {},
   "outputs": [
    {
     "data": {
      "text/plain": [
       "[10, 20, 30]"
      ]
     },
     "execution_count": 1,
     "metadata": {},
     "output_type": "execute_result"
    }
   ],
   "source": [
    "#we have created a list with 5 items \n",
    "l=[10,20,30,40,50]\n",
    "l[-5:-2]"
   ]
  },
  {
   "cell_type": "code",
   "execution_count": 2,
   "id": "06609c9b",
   "metadata": {},
   "outputs": [
    {
     "data": {
      "text/plain": [
       "30"
      ]
     },
     "execution_count": 2,
     "metadata": {},
     "output_type": "execute_result"
    }
   ],
   "source": [
    "l[-3]"
   ]
  },
  {
   "cell_type": "code",
   "execution_count": 3,
   "id": "4ee36183",
   "metadata": {},
   "outputs": [
    {
     "name": "stdout",
     "output_type": "stream",
     "text": [
      "4\n"
     ]
    }
   ],
   "source": [
    "print(l.index(50))"
   ]
  },
  {
   "cell_type": "code",
   "execution_count": 5,
   "id": "4e4e53ec",
   "metadata": {},
   "outputs": [
    {
     "name": "stdout",
     "output_type": "stream",
     "text": [
      "3\n"
     ]
    }
   ],
   "source": [
    "print(l.index(40))"
   ]
  },
  {
   "cell_type": "code",
   "execution_count": 7,
   "id": "3ba97682",
   "metadata": {},
   "outputs": [
    {
     "name": "stdout",
     "output_type": "stream",
     "text": [
      "[1, 2, 3, 4, 5, 6, 7, 8, 9, 10, 11, 12, 13, 14, 15, 16, 17, 18, 19, 20, 21, 22, 23, 24, 25, 26, 27, 28, 29, 30, 31, 32, 33, 34, 35, 36, 37, 38, 39, 40, 41, 42, 43, 44, 45, 46, 47, 48, 49, 50, 51, 52, 53, 54, 55, 56, 57, 58, 59, 60, 61, 62, 63, 64, 65, 66, 67, 68, 69, 70, 71, 72, 73, 74, 75, 76, 77, 78, 79, 80, 81, 82, 83, 84, 85, 86, 87, 88, 89, 90, 91, 92, 93, 94, 95, 96, 97, 98, 99, 100, 101, 102, 103, 104, 105, 106, 107, 108, 109, 110, 111, 112, 113, 114, 115, 116, 117, 118, 119, 120, 121, 122, 123, 124, 125, 126, 127, 128, 129, 130, 131, 132, 133, 134, 135, 136, 137, 138, 139, 140, 141, 142, 143, 144, 145, 146, 147, 148, 149, 150, 151, 152, 153, 154, 155, 156, 157, 158, 159, 160, 161, 162, 163, 164, 165, 166, 167, 168, 169, 170, 171, 172, 173, 174, 175, 176, 177, 178, 179, 180, 181, 182, 183, 184, 185, 186, 187, 188, 189, 190, 191, 192, 193, 194, 195, 196, 197, 198, 199, 200, 201, 202, 203, 204, 205, 206, 207, 208, 209, 210, 211, 212, 213, 214, 215, 216, 217, 218, 219, 220, 221, 222, 223, 224, 225, 226, 227, 228, 229, 230, 231, 232, 233, 234, 235, 236, 237, 238, 239, 240, 241, 242, 243, 244, 245, 246, 247, 248, 249, 250, 251, 252, 253, 254, 255, 256, 257, 258, 259, 260, 261, 262, 263, 264, 265, 266, 267, 268, 269, 270, 271, 272, 273, 274, 275, 276, 277, 278, 279, 280, 281, 282, 283, 284, 285, 286, 287, 288, 289, 290, 291, 292, 293, 294, 295, 296, 297, 298, 299, 300, 301, 302, 303, 304, 305, 306, 307, 308, 309, 310, 311, 312, 313, 314, 315, 316, 317, 318, 319, 320, 321, 322, 323, 324, 325, 326, 327, 328, 329, 330, 331, 332, 333, 334, 335, 336, 337, 338, 339, 340, 341, 342, 343, 344, 345, 346, 347, 348, 349, 350, 351, 352, 353, 354, 355, 356, 357, 358, 359, 360, 361, 362, 363, 364, 365, 366, 367, 368, 369, 370, 371, 372, 373, 374, 375, 376, 377, 378, 379, 380, 381, 382, 383, 384, 385, 386, 387, 388, 389, 390, 391, 392, 393, 394, 395, 396, 397, 398, 399, 400, 401, 402, 403, 404, 405, 406, 407, 408, 409, 410, 411, 412, 413, 414, 415, 416, 417, 418, 419, 420, 421, 422, 423, 424, 425, 426, 427, 428, 429, 430, 431, 432, 433, 434, 435, 436, 437, 438, 439, 440, 441, 442, 443, 444, 445, 446, 447, 448, 449, 450, 451, 452, 453, 454, 455, 456, 457, 458, 459, 460, 461, 462, 463, 464, 465, 466, 467, 468, 469, 470, 471, 472, 473, 474, 475, 476, 477, 478, 479, 480, 481, 482, 483, 484, 485, 486, 487, 488, 489, 490, 491, 492, 493, 494, 495, 496, 497, 498, 499, 500, 501, 502, 503, 504, 505, 506, 507, 508, 509, 510, 511, 512, 513, 514, 515, 516, 517, 518, 519, 520, 521, 522, 523, 524, 525, 526, 527, 528, 529, 530, 531, 532, 533, 534, 535, 536, 537, 538, 539, 540, 541, 542, 543, 544, 545, 546, 547, 548, 549, 550, 551, 552, 553, 554, 555, 556, 557, 558, 559, 560, 561, 562, 563, 564, 565, 566, 567, 568, 569, 570, 571, 572, 573, 574, 575, 576, 577, 578, 579, 580, 581, 582, 583, 584, 585, 586, 587, 588, 589, 590, 591, 592, 593, 594, 595, 596, 597, 598, 599, 600, 601, 602, 603, 604, 605, 606, 607, 608, 609, 610, 611, 612, 613, 614, 615, 616, 617, 618, 619, 620, 621, 622, 623, 624, 625, 626, 627, 628, 629, 630, 631, 632, 633, 634, 635, 636, 637, 638, 639, 640, 641, 642, 643, 644, 645, 646, 647, 648, 649, 650, 651, 652, 653, 654, 655, 656, 657, 658, 659, 660, 661, 662, 663, 664, 665, 666, 667, 668, 669, 670, 671, 672, 673, 674, 675, 676, 677, 678, 679, 680, 681, 682, 683, 684, 685, 686, 687, 688, 689, 690, 691, 692, 693, 694, 695, 696, 697, 698, 699, 700, 701, 702, 703, 704, 705, 706, 707, 708, 709, 710, 711, 712, 713, 714, 715, 716, 717, 718, 719, 720, 721, 722, 723, 724, 725, 726, 727, 728, 729, 730, 731, 732, 733, 734, 735, 736, 737, 738, 739, 740, 741, 742, 743, 744, 745, 746, 747, 748, 749, 750, 751, 752, 753, 754, 755, 756, 757, 758, 759, 760, 761, 762, 763, 764, 765, 766, 767, 768, 769, 770, 771, 772, 773, 774, 775, 776, 777, 778, 779, 780, 781, 782, 783, 784, 785, 786, 787, 788, 789, 790, 791, 792, 793, 794, 795, 796, 797, 798, 799, 800, 801, 802, 803, 804, 805, 806, 807, 808, 809, 810, 811, 812, 813, 814, 815, 816, 817, 818, 819, 820, 821, 822, 823, 824, 825, 826, 827, 828, 829, 830, 831, 832, 833, 834, 835, 836, 837, 838, 839, 840, 841, 842, 843, 844, 845, 846, 847, 848, 849, 850, 851, 852, 853, 854, 855, 856, 857, 858, 859, 860, 861, 862, 863, 864, 865, 866, 867, 868, 869, 870, 871, 872, 873, 874, 875, 876, 877, 878, 879, 880, 881, 882, 883, 884, 885, 886, 887, 888, 889, 890, 891, 892, 893, 894, 895, 896, 897, 898, 899, 900, 901, 902, 903, 904, 905, 906, 907, 908, 909, 910, 911, 912, 913, 914, 915, 916, 917, 918, 919, 920, 921, 922, 923, 924, 925, 926, 927, 928, 929, 930, 931, 932, 933, 934, 935, 936, 937, 938, 939, 940, 941, 942, 943, 944, 945, 946, 947, 948, 949, 950, 951, 952, 953, 954, 955, 956, 957, 958, 959, 960, 961, 962, 963, 964, 965, 966, 967, 968, 969, 970, 971, 972, 973, 974, 975, 976, 977, 978, 979, 980, 981, 982, 983, 984, 985, 986, 987, 988, 989, 990, 991, 992, 993, 994, 995, 996, 997, 998, 999, 1000]\n"
     ]
    }
   ],
   "source": [
    "l=[]\n",
    "for i in range(1,1001):\n",
    "    l.append(i)\n",
    "print(l)"
   ]
  },
  {
   "cell_type": "code",
   "execution_count": 1,
   "id": "6667d924",
   "metadata": {},
   "outputs": [
    {
     "name": "stdout",
     "output_type": "stream",
     "text": [
      "0 0 0\n"
     ]
    }
   ],
   "source": [
    "num1=num2=num3=0\n",
    "print(num1,num2,num3)"
   ]
  },
  {
   "cell_type": "code",
   "execution_count": 10,
   "id": "af6c3ad0",
   "metadata": {},
   "outputs": [
    {
     "name": "stdout",
     "output_type": "stream",
     "text": [
      "100000\n",
      "a 10\n",
      "b= 5\n",
      "sum = 10\n",
      "2.0\n"
     ]
    }
   ],
   "source": [
    "a=10\n",
    "b=5\n",
    "# a+=b\n",
    "print(a**b)\n",
    "print(\"a\",a)\n",
    "print(\"b=\",b)\n",
    "print(\"sum =\",a)\n",
    "print(a/b)\n"
   ]
  },
  {
   "cell_type": "code",
   "execution_count": 1,
   "id": "3f0cb344",
   "metadata": {},
   "outputs": [
    {
     "name": "stdout",
     "output_type": "stream",
     "text": [
      "True\n"
     ]
    }
   ],
   "source": [
    "print(10<=100)"
   ]
  },
  {
   "cell_type": "code",
   "execution_count": 4,
   "id": "dc9837be",
   "metadata": {},
   "outputs": [
    {
     "name": "stdout",
     "output_type": "stream",
     "text": [
      "False\n",
      "True\n",
      "False\n",
      "False\n",
      "True\n",
      "True\n"
     ]
    }
   ],
   "source": [
    "a=5\n",
    "b=10\n",
    "print(a==b)\n",
    "print(a!=b)\n",
    "print(a>b)\n",
    "print(a>=b)\n",
    "print(a<b)\n",
    "print(a<=b)"
   ]
  },
  {
   "cell_type": "code",
   "execution_count": 14,
   "id": "ecbae27a",
   "metadata": {},
   "outputs": [
    {
     "name": "stdout",
     "output_type": "stream",
     "text": [
      "Return value for first expression is  True\n",
      "return value for second expression is  False\n",
      "return value for 3 is  True\n"
     ]
    }
   ],
   "source": [
    "a=5\n",
    "b=10\n",
    "ret=((a<=b) or (a!=b))\n",
    "print(\"Return value for first expression is \",ret)\n",
    "\n",
    "ret=((a<b) and (a==b))\n",
    "print(\"return value for second expression is \",ret)\n",
    "\n",
    "ret=not((a<b) and (a==b))\n",
    "print(\"return value for 3 is \",ret)\n",
    "\n"
   ]
  },
  {
   "cell_type": "code",
   "execution_count": 15,
   "id": "71744e04",
   "metadata": {},
   "outputs": [
    {
     "data": {
      "text/plain": [
       "False"
      ]
     },
     "execution_count": 15,
     "metadata": {},
     "output_type": "execute_result"
    }
   ],
   "source": [
    "((a<b) and (a==b))"
   ]
  },
  {
   "cell_type": "code",
   "execution_count": 16,
   "id": "b2cfbbda",
   "metadata": {},
   "outputs": [
    {
     "name": "stdout",
     "output_type": "stream",
     "text": [
      "15\n"
     ]
    }
   ],
   "source": [
    "print(a|b)"
   ]
  },
  {
   "cell_type": "code",
   "execution_count": 17,
   "id": "75e49779",
   "metadata": {},
   "outputs": [
    {
     "name": "stdout",
     "output_type": "stream",
     "text": [
      "15\n"
     ]
    }
   ],
   "source": [
    "a,b=10,5\n",
    "print(a | b)"
   ]
  },
  {
   "cell_type": "code",
   "execution_count": 20,
   "id": "bc661233",
   "metadata": {},
   "outputs": [],
   "source": [
    "status=0\n",
    "status= status | 2\n",
    "status= status | 3\n",
    "status= status | 4\n",
    "status= status | 8"
   ]
  },
  {
   "cell_type": "code",
   "execution_count": 21,
   "id": "369e4b8b",
   "metadata": {},
   "outputs": [
    {
     "name": "stdout",
     "output_type": "stream",
     "text": [
      "The sum is 140\n",
      "the sum is  <function sum at 0x000001DCEA454CC0>\n"
     ]
    }
   ],
   "source": [
    "def sum(x,y):\n",
    "    print(f\"The sum is {x+y}\")\n",
    "def main():\n",
    "    sum(70,70)\n",
    "    print(\"the sum is \",sum)\n",
    "if __name__==\"__main__\":\n",
    "    main()"
   ]
  },
  {
   "cell_type": "code",
   "execution_count": 34,
   "id": "04356142",
   "metadata": {},
   "outputs": [
    {
     "name": "stdout",
     "output_type": "stream",
     "text": [
      "Initialised the data\n",
      "The player details Mahindra 5 Mahindra XUV-700(SUV)\n"
     ]
    }
   ],
   "source": [
    "class car:\n",
    "    def __init__(self,name,age,sports):\n",
    "        print(\"Initialised the data\")\n",
    "        self.name=name\n",
    "        self.age=age\n",
    "        self.sports=sports\n",
    "    def getdata(self,name,age,sports):\n",
    "        print(\"Getting data from players\")\n",
    "        self.name=name\n",
    "        self.age=age\n",
    "        self.sports=sports\n",
    "    def displaydata(self):\n",
    "        print(\"The player details\",self.name,self.age,self.sports)\n",
    "\n",
    "def main():\n",
    "    C=car(\"Mahindra\",5,\"Mahindra XUV-700(SUV)\")\n",
    "    C.displaydata()\n",
    "if __name__==\"__main__\":\n",
    "    main()\n",
    "\n"
   ]
  },
  {
   "cell_type": "code",
   "execution_count": 38,
   "id": "c756a2b0",
   "metadata": {},
   "outputs": [
    {
     "name": "stdout",
     "output_type": "stream",
     "text": [
      "Initializing the data\n",
      "The details are  BMW BMW I7 2023 Gaya\n"
     ]
    }
   ],
   "source": [
    "class car:\n",
    "    def __init__(self,name,model,year_make,registration_city):\n",
    "        print(\"Initializing the data\")\n",
    "        self.name=name\n",
    "        self.model=model\n",
    "        self.year_make=year_make\n",
    "        self.registration_city=registration_city\n",
    "    def getdata(self,name,model,year_make,registration_city):\n",
    "        print(\"Getting the data\")\n",
    "        self.name=name\n",
    "        self.model=model\n",
    "        self.year_make=year_make\n",
    "        self.registration_city=registration_city\n",
    "    def displaydata(self):\n",
    "        print(\"The details are \",self.name,self.model,self.year_make,self.registration_city)\n",
    "\n",
    "def main():\n",
    "    c=car(\"BMW\",\"BMW I7\",2023,\"Gaya\")\n",
    "    c.displaydata()\n",
    "if __name__==\"__main__\":\n",
    "    main()"
   ]
  },
  {
   "cell_type": "code",
   "execution_count": 48,
   "id": "77b1794f",
   "metadata": {},
   "outputs": [
    {
     "name": "stdout",
     "output_type": "stream",
     "text": [
      "This is an empty list \t []\n",
      "This is a character list\t ['A', 'b', 'C', 'D', 'E', 'F']\n",
      "This is a string list \t ['Apple', 'Banana', 'CocoMelon', 'DragonFruit', 'Eggplant', 'Fig']\n",
      "This is a number list \t [1, 2, 3, 4, 5, 6, 7, 8, 9, 10]\n",
      "This is a mixed list \t ['Apple', 'oranges', 23423, 34534.435, True, 'A']\n",
      "We are going to Learn more about list Manupulation in python\n"
     ]
    }
   ],
   "source": [
    "#learing about the list in python\n",
    "l1=[] #empty list\n",
    "l2=[\"A\",\"b\",\"C\",\"D\",\"E\",\"F\"]\n",
    "l3=[\"Apple\",\"Banana\",\"CocoMelon\",\"DragonFruit\",\"Eggplant\",\"Fig\"]\n",
    "l4=[1,2,3,4,5,6,7,8,9,10]\n",
    "l5=[\"Apple\",\"oranges\",23423,34534.435,True,\"A\"]\n",
    "print(f\"This is an empty list \\t {l1}\")\n",
    "print(f\"This is a character list\\t {l2}\")\n",
    "print(f\"This is a string list \\t {l3}\")\n",
    "print(f\"This is a number list \\t {l4}\")\n",
    "print(f\"This is a mixed list \\t {l5}\")\n",
    "print(f\"We are going to Learn more about list Manupulation in python\")"
   ]
  },
  {
   "cell_type": "code",
   "execution_count": null,
   "id": "7462ad01",
   "metadata": {},
   "outputs": [],
   "source": []
  }
 ],
 "metadata": {
  "kernelspec": {
   "display_name": "Python 3",
   "language": "python",
   "name": "python3"
  },
  "language_info": {
   "codemirror_mode": {
    "name": "ipython",
    "version": 3
   },
   "file_extension": ".py",
   "mimetype": "text/x-python",
   "name": "python",
   "nbconvert_exporter": "python",
   "pygments_lexer": "ipython3",
   "version": "3.12.0"
  }
 },
 "nbformat": 4,
 "nbformat_minor": 5
}
