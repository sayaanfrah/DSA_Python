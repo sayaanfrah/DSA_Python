{
 "cells": [
  {
   "cell_type": "code",
   "execution_count": 5,
   "id": "87aaa9d3",
   "metadata": {},
   "outputs": [
    {
     "name": "stdout",
     "output_type": "stream",
     "text": [
      "1 3 5 7 9 11 13 15 17 19 "
     ]
    }
   ],
   "source": [
    "# name='vencesa'\n",
    "# def function1(name):\n",
    "#     for i in range(name):\n",
    "#         if i=='s':\n",
    "#             break\n",
    "#         else:\n",
    "#             print(i)\n",
    "for i in range(1,20,2):\n",
    "    print(i,end=\" \")"
   ]
  },
  {
   "cell_type": "code",
   "execution_count": 6,
   "id": "e8b1d888",
   "metadata": {},
   "outputs": [
    {
     "data": {
      "text/plain": [
       "[0, 1, 2, 3, 4, 5, 6, 7, 8, 9, 10, 11, 12, 13, 14, 15, 16, 17, 18, 19]"
      ]
     },
     "execution_count": 6,
     "metadata": {},
     "output_type": "execute_result"
    }
   ],
   "source": [
    "\n",
    "list(range(20))"
   ]
  },
  {
   "cell_type": "code",
   "execution_count": 1,
   "id": "48512326",
   "metadata": {},
   "outputs": [],
   "source": [
    "# # Fix encoding issue by replacing problematic characters before generating the PDF content\n",
    "# import unicodedata\n",
    "\n",
    "# def clean_text(text):\n",
    "#     return unicodedata.normalize(\"NFKD\", text).encode(\"ascii\", \"ignore\").decode(\"ascii\")\n",
    "\n",
    "# # Regenerate PDF content with cleaned text\n",
    "# pdf = PDF()\n",
    "# pdf.set_auto_page_break(auto=True, margin=15)\n",
    "# pdf.add_page()\n",
    "\n",
    "# # Add cleaned sections\n",
    "# pdf.section_title(\"PROFESSIONAL SUMMARY\")\n",
    "# pdf.section_body(clean_text(\"\"\"Detail-oriented and analytical professional with hands-on experience in data analytics, reporting, and operational support through virtual internships and academic projects. Proficient in advanced Excel, Python, data visualization tools, and cross-functional coordination. Adept at working in fast-paced environments with an entrepreneurial mindset and strong problem-solving abilities. Seeking to contribute to Mastercard’s Cardholder Services operations by ensuring process efficiency, reporting accuracy, and continuous improvement.\n",
    "# \"\"\"))\n",
    "\n",
    "# pdf.section_title(\"EDUCATION\")\n",
    "# pdf.section_body(clean_text(\"\"\"Bachelor of Engineering (B.E.) – Computer & Communication Engineering\n",
    "# R.K.D.F. Institute of Science & Technology, 2016 – 2020\n",
    "# CGPA: 8.00/10\n",
    "# \"\"\"))\n",
    "\n",
    "# pdf.section_title(\"RELEVANT EXPERIENCE\")\n",
    "# pdf.section_body(clean_text(\"\"\"Data Analytics Intern – Quantium (Virtual), Apr 2024 – Apr 2024\n",
    "# - Completed job simulation focused on data analytics and commercial insights.\n",
    "# - Utilized transaction datasets for data preparation and created actionable business recommendations.\n",
    "\n",
    "# Data Science Virtual Intern – British Airways (Forage), Apr 2023 – Apr 2023\n",
    "# - Built a predictive model to understand customer buying behavior.\n",
    "# - Analyzed customer reviews to extract key insights improving service strategies.\n",
    "\n",
    "# Data Visualization Intern – Tata Consultancy Services (Forage), Jan 2023 – Mar 2023\n",
    "# - Created executive dashboards and visual reports to support strategic decisions.\n",
    "# - Collaborated on presentation material for client leadership based on analytics.\n",
    "\n",
    "# Data Science Intern – FlipRobo (Virtual), Mar 2021 – Sep 2021\n",
    "# - Worked on projects like Boston house price and cancer prediction models.\n",
    "# - Applied EDA, web scraping, and statistical modeling to real-world datasets.\n",
    "# \"\"\"))\n",
    "\n",
    "# pdf.section_title(\"SKILLS\")\n",
    "# pdf.section_body(clean_text(\"\"\"Tools & Languages: Excel (Advanced), Python, SQL, Tableau, Selenium, BeautifulSoup, Figma\n",
    "# Business & Analytics: Data Visualization, Reporting, Data Science, EDA, Statistical Modeling\n",
    "# Software Proficiency: MS Word (Intermediate), MS PowerPoint (Advanced)\n",
    "# Soft Skills: Problem-solving, Attention to detail, Self-starter, Adaptability, Communication\n",
    "# \"\"\"))\n",
    "\n",
    "# pdf.section_title(\"CERTIFICATIONS & TRAINING\")\n",
    "# pdf.section_body(clean_text(\"\"\"Excel – Internshala Trainings (Apr 2023 – May 2023)\n",
    "# General Aptitude – Internshala Trainings (Top Performer, Score: 94%)\n",
    "# Data Science & Analytics Virtual Internships – British Airways, TATA, Quantium (2023–2024)\n",
    "# \"\"\"))\n",
    "\n",
    "# pdf.section_title(\"PROJECTS & WORK SAMPLES\")\n",
    "# pdf.section_body(clean_text(\"GitHub Portfolio: github.com/sayaanfrah/EDA_solutions\"))\n",
    "\n",
    "# pdf.section_title(\"ADDITIONAL\")\n",
    "# pdf.section_body(clean_text(\"\"\"Recognized for leadership and team contribution in sports, awarded by an Army officer at school-level championship.\n",
    "# \"\"\"))\n",
    "\n",
    "# # Save the cleaned, ATS-friendly PDF\n",
    "# final_output_path = \"/mnt/data/Sayaan_Frah_Mastercard_Resume.pdf\"\n",
    "# pdf.output(final_output_path)\n",
    "\n",
    "# final_output_path\n"
   ]
  },
  {
   "cell_type": "code",
   "execution_count": 2,
   "id": "6592447c",
   "metadata": {},
   "outputs": [
    {
     "name": "stdout",
     "output_type": "stream",
     "text": [
      "Learing from Udemy Course\n",
      "We have Learned the print function that its written between 2 Paranthesis ()\n",
      "468\n",
      "If we use Oparators we can get result directly printed in the terminal\n"
     ]
    }
   ],
   "source": [
    "print(\"Learing from Udemy Course\")\n",
    "print(\"We have Learned the print function that its written between 2 Paranthesis ()\")\n",
    "print(234+234)\n",
    "print(\"If we use Oparators we can get result directly printed in the terminal\")\n"
   ]
  },
  {
   "cell_type": "code",
   "execution_count": null,
   "id": "44040295",
   "metadata": {},
   "outputs": [],
   "source": []
  },
  {
   "cell_type": "code",
   "execution_count": 18,
   "id": "7ce5619e",
   "metadata": {},
   "outputs": [
    {
     "name": "stdout",
     "output_type": "stream",
     "text": [
      "Print the sum of first n natural numbers\n",
      "500500.0\n",
      "For 10 its 55\n",
      "for 100 its 5050\n",
      "For 1000 its 500500\n",
      "its the shortest way to calcualte the sum for first n natural numbers\n"
     ]
    }
   ],
   "source": [
    "print(\"Print the sum of first n natural numbers\")\n",
    "n=1000\n",
    "def function1(n):\n",
    "    return n*(n+1)/2\n",
    "print(function1(n))\n",
    "print(\"For 10 its 55\")\n",
    "print(\"for 100 its 5050\")\n",
    "print(\"For 1000 its 500500\")\n",
    "print(\"its the shortest way to calcualte the sum for first n natural numbers\")\n"
   ]
  },
  {
   "cell_type": "code",
   "execution_count": 21,
   "id": "0ba767e8",
   "metadata": {},
   "outputs": [
    {
     "data": {
      "text/plain": [
       "3628800"
      ]
     },
     "execution_count": 21,
     "metadata": {},
     "output_type": "execute_result"
    }
   ],
   "source": [
    "import math\n",
    "def function2(n):\n",
    "    return math.factorial(n)\n",
    "\n",
    "n=10\n",
    "function2(n)"
   ]
  },
  {
   "cell_type": "code",
   "execution_count": 25,
   "id": "799bb99a",
   "metadata": {},
   "outputs": [
    {
     "name": "stdout",
     "output_type": "stream",
     "text": [
      "The end ?! \n",
      " or is it To learn more python program  3\n"
     ]
    }
   ],
   "source": [
    "print(\"The end ?! \\n\",\"or is it\",\"To learn more python program \",3)"
   ]
  },
  {
   "cell_type": "code",
   "execution_count": null,
   "id": "d6e1abf8",
   "metadata": {},
   "outputs": [
    {
     "name": "stdout",
     "output_type": "stream",
     "text": [
      "Going to learn Python strings\n",
      "Today is a good day to learn Python\n",
      "Python is fun\n",
      "Python's string are easy to use\n",
      "Is it difficult to understand the concept of Python\"\"s \n"
     ]
    }
   ],
   "source": [
    "# Learning Python Strings\n",
    "print(\"Going to learn Python strings\")\n",
    "print(\"Today is a good day to learn Python\")\n",
    "print('Python is fun')\n",
    "print(\"Python's string are easy to use\")\n",
    "print(\"Is it difficult to understand the concept of Python's \")"
   ]
  },
  {
   "cell_type": "code",
   "execution_count": 29,
   "id": "65b68db4",
   "metadata": {},
   "outputs": [
    {
     "name": "stdout",
     "output_type": "stream",
     "text": [
      "We can even include \"quotes\" in string\n"
     ]
    }
   ],
   "source": [
    "print('We can even include \"quotes\" in string')"
   ]
  },
  {
   "cell_type": "code",
   "execution_count": 30,
   "id": "600dbd70",
   "metadata": {},
   "outputs": [
    {
     "data": {
      "text/plain": [
       "54756"
      ]
     },
     "execution_count": 30,
     "metadata": {},
     "output_type": "execute_result"
    }
   ],
   "source": [
    "#working with Operators\n",
    "234*234\n"
   ]
  },
  {
   "cell_type": "code",
   "execution_count": 39,
   "id": "e69f6a8c",
   "metadata": {},
   "outputs": [
    {
     "name": "stdout",
     "output_type": "stream",
     "text": [
      "Hello World\n",
      "Hellow world\n",
      "Hello Hemlata How are you?\n",
      "Hello Hemlata\n"
     ]
    }
   ],
   "source": [
    "print(\"Hello \"+\"World\")\n",
    "print(\"Hellow world\")\n",
    "greetings=\"Hello\"\n",
    "name=input(\"enter your name\")\n",
    "print(f\"{greetings} {name} How are you?\")\n",
    "print(greetings+' '+name)"
   ]
  },
  {
   "cell_type": "code",
   "execution_count": 40,
   "id": "d334517a",
   "metadata": {},
   "outputs": [
    {
     "name": "stdout",
     "output_type": "stream",
     "text": [
      "This String \n",
      " has been split over \n",
      " several lines\n"
     ]
    }
   ],
   "source": [
    "splitString=\"This String \\n has been split over \\n several lines\"\n",
    "print(splitString)"
   ]
  },
  {
   "cell_type": "code",
   "execution_count": 41,
   "id": "d15dd8b9",
   "metadata": {},
   "outputs": [
    {
     "name": "stdout",
     "output_type": "stream",
     "text": [
      "We are just \t goint to have some \t food in our basket\t can you bring it?\n"
     ]
    }
   ],
   "source": [
    "Sentence=\"We are just \\t goint to have some \\t food in our basket\\t can you bring it?\"\n",
    "print(Sentence)"
   ]
  },
  {
   "cell_type": "code",
   "execution_count": 2,
   "id": "39a6c443",
   "metadata": {},
   "outputs": [
    {
     "name": "stdout",
     "output_type": "stream",
     "text": [
      "1\t2\t3\t4\t5\n"
     ]
    }
   ],
   "source": [
    "#Now we will learn about tabbed String\n",
    "tabbedString=\"1\\t2\\t3\\t4\\t5\"\n",
    "print(tabbedString) "
   ]
  },
  {
   "cell_type": "code",
   "execution_count": 3,
   "id": "1967a9c1",
   "metadata": {},
   "outputs": [
    {
     "name": "stdout",
     "output_type": "stream",
     "text": [
      "Welcome Sayaan\n"
     ]
    }
   ],
   "source": [
    "Greetings=\"Welcome\"\n",
    "name=input(\"enter your name\")\n",
    "print(Greetings,name)"
   ]
  },
  {
   "cell_type": "code",
   "execution_count": 7,
   "id": "e5c465f9",
   "metadata": {},
   "outputs": [
    {
     "name": "stdout",
     "output_type": "stream",
     "text": [
      "Learning \t about \t  tabbed String\n"
     ]
    }
   ],
   "source": [
    "print(\"Learning \\t about \\t  tabbed String\")"
   ]
  },
  {
   "cell_type": "code",
   "execution_count": 10,
   "id": "9621397c",
   "metadata": {},
   "outputs": [
    {
     "name": "stdout",
     "output_type": "stream",
     "text": [
      "The pet owner said \"No no he's very much tired so that's why can't talk\".\n",
      "The pet owner said that 'No ,no, uhhhh...\n",
      " he's resting right now and can't talk right now '\n"
     ]
    }
   ],
   "source": [
    "print('The pet owner said \"No no he\\'s very much tired so that\\'s why can\\'t talk\".')\n",
    "print(\"The pet owner said that 'No ,no, uhhhh...\\n he\\'s resting right now and can\\'t talk right now '\")"
   ]
  },
  {
   "cell_type": "code",
   "execution_count": 34,
   "id": "b8fbe7eb",
   "metadata": {},
   "outputs": [
    {
     "name": "stdout",
     "output_type": "stream",
     "text": [
      "C: \\Users\\link_connect\\more.txt\n",
      "C:\\Users\\link_connect\\nore.txt\n"
     ]
    }
   ],
   "source": [
    "print(\"C: \\\\Users\\\\link_connect\\\\more.txt\")\n",
    "print(r\"C:\\Users\\link_connect\\nore.txt\")"
   ]
  },
  {
   "cell_type": "code",
   "execution_count": 35,
   "id": "4bfe9db7",
   "metadata": {},
   "outputs": [
    {
     "name": "stdout",
     "output_type": "stream",
     "text": [
      "C:\\Users\\timbuchalka\\notes.txt\n",
      "C:\\Users\\timbuchalka\\notes.txt\n"
     ]
    }
   ],
   "source": [
    "print(\"C:\\\\Users\\\\timbuchalka\\\\notes.txt\")\n",
    "print(r\"C:\\Users\\timbuchalka\\notes.txt\")"
   ]
  },
  {
   "cell_type": "code",
   "execution_count": 1,
   "id": "b32a3933",
   "metadata": {},
   "outputs": [
    {
     "name": "stdout",
     "output_type": "stream",
     "text": [
      "Understanding Variables and data types\n"
     ]
    }
   ],
   "source": [
    "print(\"Understanding Variables and data types\")"
   ]
  },
  {
   "cell_type": "code",
   "execution_count": null,
   "id": "5f61ada2",
   "metadata": {},
   "outputs": [],
   "source": []
  }
 ],
 "metadata": {
  "kernelspec": {
   "display_name": "Python 3",
   "language": "python",
   "name": "python3"
  },
  "language_info": {
   "codemirror_mode": {
    "name": "ipython",
    "version": 3
   },
   "file_extension": ".py",
   "mimetype": "text/x-python",
   "name": "python",
   "nbconvert_exporter": "python",
   "pygments_lexer": "ipython3",
   "version": "3.12.0"
  }
 },
 "nbformat": 4,
 "nbformat_minor": 5
}
