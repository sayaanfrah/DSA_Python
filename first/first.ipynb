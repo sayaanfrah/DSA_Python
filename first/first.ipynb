{
 "cells": [
  {
   "cell_type": "markdown",
   "id": "2cc65ce1",
   "metadata": {},
   "source": [
    "## Learning About DSA(Data Structures and Algorithm)"
   ]
  },
  {
   "cell_type": "markdown",
   "id": "1ed09724",
   "metadata": {},
   "source": [
    "# Data Structures and Algorithm"
   ]
  },
  {
   "cell_type": "markdown",
   "id": "26ddda32",
   "metadata": {},
   "source": [
    "# Data Structures is about how data can be stored in different structures. Algorithms is about how to solve different problems, often by searching through and manipulating data structures. Theory about Data Structures and Algorithms (DSA) helps us to use large amounts of data to solve problems efficiently."
   ]
  },
  {
   "cell_type": "markdown",
   "id": "a05c8b22",
   "metadata": {},
   "source": [
    "# DSA (Data Structures and Algorithms) is the study of organizing data efficiently using data structures like arrays, stacks, and trees, paired with step-by-step procedures (or algorithms) to solve problems effectively. Data structures manage how data is stored and accessed, while algorithms focus on processing this data.\n",
    "\n",
    "# Why to Learn DSA?\n",
    "# Learning DSA boosts your problem-solving abilities and make you a stronger programmer.\n",
    "# DSA is foundation for almost every software like GPS, Search Engines, AI ChatBots, Gaming Apps, Databases, Web Applications, etc\n",
    "# Top Companies like Google, Microsoft, Amazon, Apple, Meta and many other heavily focus on DSA in interviews."
   ]
  },
  {
   "cell_type": "markdown",
   "id": "8ec7bf6f",
   "metadata": {},
   "source": [
    "# 5 Steps to Learn DSA from Scratch"
   ]
  },
  {
   "cell_type": "markdown",
   "id": "38ebbdb6",
   "metadata": {},
   "source": [
    "# 1 Learn at-least one programming language (C++, Java, Python or JavaScript) and build your basic logic.\n",
    "# 2 Learn about Time and Space complexities\n",
    "# 3 Learn Data Structures (Arrays, Linked List, etc) and Algorithms (Searching, Sorting, etc).\n",
    "# 4 Once you learn main topics, it is important to solve coding problems against some predefined test cases,\n",
    "# 5 Solve problems daily using, Leetcode, Codechef, codesignal , Geeksforgeeks , HackerEarth, HackerRank"
   ]
  },
  {
   "cell_type": "markdown",
   "id": "fa3d253a",
   "metadata": {},
   "source": [
    "Hoping you have learned a programming language of your choice, here comes the next stage of the roadmap - Learn about Time and Space Complexities.\n",
    "\n",
    "1. Logic Building\n",
    "Once you have learned basics of a programming language, it is recommended that you learn basic logic building\n",
    "\n",
    "Logic Building Guide\n",
    "Quiz on Logic Building\n",
    "2. Learn about Complexities\n",
    "To analyze algorithms, we mainly measure order of growth of time or space taken in terms of input size. We do this in the worst case scenario in most of the cases. Please refer the below links for a clear understanding of these concepts.\n",
    "\n",
    "Complexity Analysis Guide\n",
    "Quiz on Complexity Analysis\n",
    "3. Array\n",
    "Array is a linear data structure where elements are allocated contiguous memory, allowing for constant-time access.\n",
    "\n",
    "Array Guide\n",
    "Quiz on Arrays\n",
    "4. Searching Algorithms\n",
    "Searching algorithms are used to locate specific data within a large set of data. It helps find a target value within the data. There are various types of searching algorithms, each with its own approach and efficiency.\n",
    "\n",
    "Searching Guide\n",
    "Quiz on Searching\n",
    "5. Sorting Algorithm\n",
    "Sorting algorithms are used to arrange the elements of a list in a specific order, such as numerical or alphabetical. It organizes the items in a systematic way, making it easier to search for and access specific elements.\n",
    "\n",
    "Sorting Guide\n",
    "Quiz on Sorting\n",
    "6. Hashing\n",
    "Hashing is a technique that generates a fixed-size output (hash value) from an input of variable size using mathematical formulas called hash functions. Hashing is commonly used in data structures for efficient searching, insertion and deletion.\n",
    "\n",
    "Hashing Guide\n",
    "Quiz on Hashing\n",
    "7. Two Pointer Technique\n",
    "In Two Pointer Technique, we typically use two index variables from two corners of an array. We use the two pointer technique for searching a required point or value in an array.\n",
    "\n",
    "Two Pointer Technique\n",
    "Quiz on Two Pointer Technique\n",
    "8. Window Sliding Technique\n",
    "In Window Sliding Technique, we use the result of previous subarray to quickly compute the result of current.\n",
    "\n",
    "Window Sliding Technique\n",
    "Quiz on Sliding Window\n",
    "9. Prefix Sum Technique\n",
    "In Prefix Sum Technique, we compute prefix sums of an array to quickly find results for a subarray.\n",
    "\n",
    "Prefix Sum Technique\n",
    "Quiz on Prefix Sum\n",
    "10. String\n",
    "String is a sequence of characters, typically immutable and have limited set of elements (lower case or all English alphabets).\n",
    "\n",
    "Strings Guide\n",
    "Quiz on Strings\n",
    "11. Recursion\n",
    "Recursion is a programming technique where a function calls itself within its own definition. It is usually used to solve problems that can be broken down into smaller instances of the same problem.\n",
    "\n",
    "Recursion Guide\n",
    "Quiz on Recursion\n",
    "12. Matrix/Grid\n",
    "Matrix is a two-dimensional array of elements, arranged in rows and columns. It is represented as a rectangular grid, with each element at the intersection of a row and column.\n",
    "\n",
    "Matrix Guide\n",
    "Quiz on Matrix/Grid.\n",
    "13. Linked List\n",
    "Linked list is a linear data structure that stores data in nodes, which are connected by pointers. Unlike arrays, nodes of linked lists are not stored in contiguous memory locations and can only be accessed sequentially, starting from the head of list.\n",
    "\n",
    "Linked List Guide\n",
    "Quiz on Linked List\n",
    "14. Stack\n",
    "Stack is a linear data structure that follows the Last In, First Out (LIFO) principle. Stacks play an important role in managing function calls, memory, and are widely used in algorithms like stock span problem, next greater element and largest area in a histogram.\n",
    "\n",
    "Stack Guide\n",
    "Quiz on Stack\n",
    "15. Queue\n",
    "Queue is a linear data structure that follows the First In, First Out (FIFO) principle. Queues play an important role in managing tasks or data in order, scheduling and message handling systems.\n",
    "\n",
    "Queue Guide\n",
    "Quiz on Queue\n",
    "16. Deque\n",
    "A deque (double-ended queue) is a data structure that allows elements to be added or removed from both ends efficiently.\n",
    "\n",
    "Deque Guide\n",
    "Quiz on Deque\n",
    "17. Tree\n",
    "Tree is a non-linear, hierarchical data structure consisting of nodes connected by edges, with a top node called the root and nodes having child nodes. It is widely used in file systems, databases, decision-making algorithms, etc.\n",
    "\n",
    "Tree Guide\n",
    "Quiz on Tree\n",
    "18. Heap\n",
    "Heap is a complete binary tree data structure that satisfies the heap property. Heaps are usually used to implement priority queues, where the smallest or largest element is always at the root of the tree.\n",
    "\n",
    "Heap Guide\n",
    "Quiz on Heap\n",
    "19. Graph\n",
    "Graph is a non-linear data structure consisting of a finite set of vertices(or nodes) and a set of edges(or links)that connect a pair of nodes. Graphs are widely used to represent relationships between entities.\n",
    "\n",
    "Graph Guide\n",
    "Quiz on Graph\n",
    "20. Greedy Algorithm\n",
    "Greedy Algorithm builds up the solution one piece at a time and chooses the next piece which gives the most obvious and immediate benefit i.e., which is the most optimal choice at that moment. So the problems where choosing locally optimal also leads to the global solutions are best fit for Greedy.\n",
    "\n",
    "Greedy Algorithms Guide\n",
    "Quiz on Greedy\n",
    "21. Dynamic Programming\n",
    "Dynamic Programming is a method used to solve complex problems by breaking them down into simpler subproblems. By solving each subproblem only once and storing the results, it avoids redundant computations, leading to more efficient solutions for a wide range of problems.\n",
    "\n",
    "Dynamic Programming Guide\n",
    "Quiz on DP\n",
    "22. Advanced Data Structure and Algorithms\n",
    "Advanced Data Structures like Trie, Segment Tree, Red-Black Tree and Binary Indexed Tree offer significant performance improvements for specific problem domains. They provide efficient solutions for tasks like fast prefix searches, range queries, dynamic updates, and maintaining balanced data structures, which are crucial for handling large datasets and real-time processing.\n",
    "\n",
    "Trie\n",
    "Segment Tree\n",
    "Red-Black Tree\n",
    "Binary Indexed Tree\n",
    "Practice Advanced Data Structures\n",
    "23. Other Algorithms\n",
    "Bitwise Algorithms: Operate on individual bits of numbers.\n",
    "\n",
    "Bitwise Algorithms Guide\n",
    "Quiz on Bit Magic\n",
    "Backtracking Algorithm : Follow Recursion with the option to revert and traces back if the solution from current point is not feasible.\n",
    "\n",
    "Backtracking Guide\n",
    "Quiz on Backtracking\n",
    "Divide and conquer: A strategy to solve problems by dividing them into smaller subproblems, solving those subproblems, and combining the solutions to obtain the final solution.\n",
    "\n",
    "Divide and Conquer Guide\n",
    "Quiz on Divide and Conquer\n",
    "Branch and Bound : Used in combinatorial optimization problems to systematically search for the best solution. It works by dividing the problem into smaller subproblems, or branches, and then eliminating certain branches based on bounds on the optimal solution. This process continues until the best solution is found or all branches have been explored.\n",
    "\n",
    "Branch and Bound Algorithm\n",
    "Geometric algorithms are a set of algorithms that solve problems related to shapes, points, lines and polygons.\n",
    "\n",
    "Geometric Algorithms\n",
    "Practice Geometric Algorithms\n",
    "Randomized algorithms are algorithms that use randomness to solve problems. They make use of random input to achieve their goals, often leading to simpler and more efficient solutions. These algorithms may not product same result but are particularly useful in situations when a probabilistic approach is acceptable.\n",
    "\n",
    "Randomized Algorithms"
   ]
  },
  {
   "cell_type": "markdown",
   "id": "213ded1a",
   "metadata": {},
   "source": [
    "# Logic Building"
   ]
  },
  {
   "cell_type": "markdown",
   "id": "e945810f",
   "metadata": {},
   "source": [
    "Logic building is about creating clear, step-by-step methods to solve problems using simple rules and principles. It’s the heart of coding, enabling programmers to think, reason, and arrive at smart solutions just like we do."
   ]
  },
  {
   "cell_type": "markdown",
   "id": "889a4ef6",
   "metadata": {},
   "source": [
    "# Here are some tips for improving your programming logic:\n",
    "\n",
    "# 1. Understand the problem: Read and understand the problem statement.\n",
    "# 2. Generate Examples: Create additional input and output cases for each problem.\n",
    "# 3. Draw observations: Draw observations and patterns based on the examples you created.\n",
    "# 4. Start with Basic: First, think of the basic way to solve the problem then optimize the solution."
   ]
  },
  {
   "cell_type": "markdown",
   "id": "76b0af01",
   "metadata": {},
   "source": [
    "# Mathematics For Computer Science"
   ]
  },
  {
   "cell_type": "markdown",
   "id": "86e43a10",
   "metadata": {},
   "source": [
    " Mathematics is the language of logic, structure and precision and it plays a fundamental role in shaping computer science. From the binary language of computers to advanced concepts like machine learning and cryptography, math provides the foundation for nearly every area of computing.\n",
    "\n",
    "At its core, a computer is a machine that operates in two states: ON and OFF. Mathematically, we represent these states as 1 and 0, forming the basis of binary code the language computers understand. This simple concept has evolved into the complex systems we see today algorithms, artificial intelligence, graphics, networks and much more."
   ]
  },
  {
   "cell_type": "markdown",
   "id": "ccfc5d63",
   "metadata": {},
   "source": [
    "Why Learn Mathematics for Computer Science\n",
    "Mathematics provides you with the tools to think logically, solve problems efficiently and build systems that are secure, scalable and intelligent. It’s not just about numbers it’s about structured thinking, which is at the core of computer science.\n",
    "\n",
    "Here’s what learning math enables you to do:\n",
    "\n",
    "Help in Solving Problems: Understand how to approach problems with logic and precision.\n",
    "Write Efficient Code: Analyze and improve program performance using mathematical reasoning.\n",
    "Master Core Concepts: Grasp foundational topics like data structures, cryptography, AI and graphics.\n",
    "Build Secure Systems: Use number theory and modular arithmetic for encryption and data protection.\n",
    "Succeed in Advanced Fields: Tackle machine learning, simulations and theoretical computer science with confidence.\n",
    "Learning mathematics gives you the mindset and methods needed to excel in every area of computing.\n",
    "\n",
    "Number Theory\n",
    "Focuses on numeric systems, conversions and arithmetic operations used in computing. Includes binary math, modular arithmetic, GCD and number-theoretic algorithms essential for cryptography.\n",
    "\n",
    "Decimal, Binary, Octal, Hexadecimal systems\n",
    "Conversion between number systems\n",
    "Arithmetic Operations\n",
    "Modular Arithmetic\n",
    "Greatest Common Divisor\n",
    "Congruency\n",
    "Fermats Little Theorem\n",
    "Euclid's Division Algorithm\n",
    "Combinatorics\n",
    "Deals with counting, arrangement and discrete structures. Covers permutations, combinations, pigeonhole principle, inclusion-exclusion and recurrence relations used in algorithm design.\n",
    "\n",
    "Basic Counting Rules\n",
    "Tree Diagram\n",
    "Permutation and Combination\n",
    "Pigeonhole principle\n",
    "Inclusion-Exclusion principle\n",
    "Recurrence Relations\n",
    "Algorithms and Complexity\n",
    "Discrete Mathematics\n",
    "Studies logic, sets, functions and relations fundamental for data structures, algorithms and digital circuits. Induction is key for proving algorithm correctness.\n",
    "\n",
    "Set Theory\n",
    "Propositional Logic\n",
    "Function in Mathematics\n",
    "Relations and Their Properties\n",
    "Principle of Mathematical Induction\n",
    "Boolean Algebra\n",
    "Linear Algebra\n",
    "Explores vectors, matrices and transformations used in graphics, machine learning and data science. Includes eigenvalues, systems of equations and PCA.\n",
    "\n",
    "Vector and Vector Spaces\n",
    "Matrices\n",
    "Matrix Diagonalization\n",
    "Eigenvalues and Eigenvectors\n",
    "System of linear equations\n",
    "Gaussian Elimination to Solve Linear Equations\n",
    "Principal Component Analysis\n",
    "Calculus\n",
    "Used in optimization and modeling continuous systems. Covers limits, derivatives, integrals and differential equations relevant in algorithm analysis and simulations.\n",
    "\n",
    "Limits, Continuity & Differentiation\n",
    "Integration\n",
    "Partial Derivative\n",
    "Differential Equation\n",
    "Graph Theory\n",
    "Mathematical study of graphs, their types and properties. Topics include paths, circuits, planarity and coloring key for modeling networks and relationships.\n",
    "\n",
    "Graph Theory\n",
    "Types of Graphs with Examples\n",
    "Graph Representations\n",
    "Walks, Trails, Paths, Cycles and Circuits\n",
    "Planar Graphs and Graph Coloring\n",
    "Handshaking Lemma\n",
    "Probability and Statistics\n",
    "Provides tools for analyzing uncertainty and data. Covers probability theory, distributions, Bayes’ theorem and statistical inference for machine learning and data modeling.\n",
    "\n",
    "Probability Theory\n",
    "Bayes' Theorem\n",
    "Probability Distribution\n",
    "Descriptive Statistics\n",
    "Sampling\n",
    "Hypothesis Testing\n",
    "Regression Analysis\n",
    "Applications of Mathematics in Computer Science\n",
    "Algorithms and Data Structures: Used to design and analyze efficient algorithms using logic, combinatorics and complexity theory.\n",
    "Computer Graphics: Linear algebra and geometry help with 2D/3D rendering, animations and transformations.\n",
    "Machine Learning and AI: Statistics, probability and calculus power model training, optimization and predictions.\n",
    "Cryptography: Number theory and modular arithmetic secure data through encryption and hashing.\n",
    "Databases and Information Retrieval: Set theory and logic manage queries, relationships and indexing efficiently.\n",
    "Networks and Communication: Graph theory models connections, routing and data flow in computer networks.\n",
    "Compiler Design and Automata: Formal languages and automata theory enable syntax analysis and language processing."
   ]
  },
  {
   "cell_type": "markdown",
   "id": "072bcb3e",
   "metadata": {},
   "source": [
    "# Number Theories {1 2 3 4}"
   ]
  },
  {
   "cell_type": "markdown",
   "id": "1290bfdc",
   "metadata": {},
   "source": [
    "# Combinatories {n!}"
   ]
  },
  {
   "cell_type": "markdown",
   "id": "8487e79d",
   "metadata": {},
   "source": [
    "# Logic {?}"
   ]
  },
  {
   "cell_type": "markdown",
   "id": "309ad0d9",
   "metadata": {},
   "source": [
    "# Graph Theory"
   ]
  },
  {
   "cell_type": "markdown",
   "id": "286984ff",
   "metadata": {},
   "source": [
    "# Mathematics for ComputerScience"
   ]
  },
  {
   "cell_type": "markdown",
   "id": "62fed860",
   "metadata": {},
   "source": [
    "# Set Theory { }"
   ]
  },
  {
   "cell_type": "markdown",
   "id": "238472dc",
   "metadata": {},
   "source": [
    "# Linear Algebra {x^2}"
   ]
  },
  {
   "cell_type": "markdown",
   "id": "b5d2ff8c",
   "metadata": {},
   "source": [
    "# Probablity & Statistics"
   ]
  },
  {
   "cell_type": "markdown",
   "id": "58c3f917",
   "metadata": {},
   "source": [
    "# Discreate Mathematics"
   ]
  },
  {
   "cell_type": "markdown",
   "id": "8ba748a4",
   "metadata": {},
   "source": [
    "# How many types of number systems are there?\n",
    "Numbers are not only the mere symbols on a page but there is much more significance of numbers. In the study of mathematics, numerous number systems exist, each with its own significance and applications. From the familiar decimal system we use daily to the intriguing worlds of binary, octal, and hexadecimal, these systems offer unique perspectives on numerical representation. In this article, we explore the concepts of number systems and also learn about these different number system types. \n",
    "\n",
    "The number system includes different types of numbers for example prime numbers, odd numbers, even numbers, rational numbers, whole numbers, etc. These numbers can be expressed in the form of figures as well as words accordingly. For example, numbers like 40 and 65 expressed in the form of figures can also be written as forty and sixty-five."
   ]
  },
  {
   "cell_type": "markdown",
   "id": "18f18d83",
   "metadata": {},
   "source": [
    "Numbers Definition\n",
    "\n",
    "Numbers are used in various arithmetic values applicable to carry out various arithmetic operations like addition, subtraction, multiplication, etc which are applicable in daily lives for the purpose of calculation. \n",
    "\n",
    "Numbers are the mathematical values or figures used for the purpose of measuring or calculating quantities. It is represented by numerals as 2, 4, 7, etc. Some examples of numbers are integers, whole numbers, natural numbers, rational and irrational numbers, etc.\n",
    "\n",
    "The value of a number is determined by the digit, its place value in the number, and the base of the number system. Numbers generally also known as numerals are the mathematical values used for counting, measurements, labeling, and measuring fundamental quantities."
   ]
  },
  {
   "cell_type": "markdown",
   "id": "bb8c0edb",
   "metadata": {},
   "source": []
  }
 ],
 "metadata": {
  "kernelspec": {
   "display_name": "Python 3",
   "language": "python",
   "name": "python3"
  },
  "language_info": {
   "name": "python",
   "version": "3.12.0"
  }
 },
 "nbformat": 4,
 "nbformat_minor": 5
}
